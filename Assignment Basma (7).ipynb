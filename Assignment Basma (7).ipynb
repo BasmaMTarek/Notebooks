{
 "cells": [
  {
   "cell_type": "code",
   "execution_count": 122,
   "id": "9e06f64d-67ff-41d6-a9c9-fa85bdf56b1d",
   "metadata": {},
   "outputs": [
    {
     "name": "stderr",
     "output_type": "stream",
     "text": [
      "Installing package into ‘/usr/local/lib/R/site-library’\n",
      "(as ‘lib’ is unspecified)\n",
      "\n",
      "Warning message in install.packages(\"sybil\"):\n",
      "“'lib = \"/usr/local/lib/R/site-library\"' is not writable”\n"
     ]
    },
    {
     "ename": "ERROR",
     "evalue": "Error in install.packages(\"sybil\"): unable to install packages\n",
     "output_type": "error",
     "traceback": [
      "Error in install.packages(\"sybil\"): unable to install packages\nTraceback:\n",
      "1. install.packages(\"sybil\")",
      "2. stop(\"unable to install packages\")"
     ]
    }
   ],
   "source": [
    "install.packages('sybil')"
   ]
  },
  {
   "cell_type": "code",
   "execution_count": 123,
   "id": "d08f3ef6-e6d9-42f9-924b-0f9b7842512a",
   "metadata": {},
   "outputs": [],
   "source": [
    "library(sybil)"
   ]
  },
  {
   "cell_type": "code",
   "execution_count": 124,
   "id": "c93cda91-e6bb-4231-8331-1c3dad4173b7",
   "metadata": {},
   "outputs": [],
   "source": [
    "mp = system.file(package = \"sybil\", \"extdata\")"
   ]
  },
  {
   "cell_type": "code",
   "execution_count": 125,
   "id": "50d7a166-59f7-4d15-bf0e-9eef81474cea",
   "metadata": {},
   "outputs": [
    {
     "name": "stderr",
     "output_type": "stream",
     "text": [
      "reading model description, ... \n",
      "OK\n",
      "\n",
      "reading metabolite list ... \n",
      "OK\n",
      "\n",
      "parsing reaction list ... \n",
      "OK\n",
      "\n",
      "GPR mapping ... \n",
      "OK\n",
      "\n",
      "sub systems ... \n",
      "OK\n",
      "\n",
      "prepare modelorg object ... \n",
      "OK\n",
      "\n",
      "validating object ... \n",
      "OK\n",
      "\n"
     ]
    }
   ],
   "source": [
    "model = readTSVmod(prefix = \"Ec_core\", fpath = mp, quoteChar = \"\\\"\")"
   ]
  },
  {
   "cell_type": "code",
   "execution_count": 126,
   "id": "8c6b5d18-5cf7-48db-bfcf-6cb4183ef513",
   "metadata": {},
   "outputs": [
    {
     "data": {
      "text/plain": [
       "model name:             Ecoli_core_model \n",
       "number of compartments  2 \n",
       "                        C_c \n",
       "                        C_e \n",
       "number of reactions:    95 \n",
       "number of metabolites:  72 \n",
       "number of unique genes: 137 \n",
       "objective function:     +1 Biomass_Ecoli_core_w_GAM "
      ]
     },
     "metadata": {},
     "output_type": "display_data"
    }
   ],
   "source": [
    "model # Display the model"
   ]
  },
  {
   "cell_type": "code",
   "execution_count": 127,
   "id": "338c9b59-1334-4272-aa2c-9d7921024ae3",
   "metadata": {},
   "outputs": [
    {
     "data": {
      "text/plain": [
       "solver:                                   glpkAPI\n",
       "method:                                   simplex\n",
       "algorithm:                                fba\n",
       "number of variables:                      95\n",
       "number of constraints:                    72\n",
       "return value of solver:                   solution process was successful\n",
       "solution status:                          solution is optimal\n",
       "value of objective function (fba):        0.873922\n",
       "value of objective function (model):      0.873922"
      ]
     },
     "metadata": {},
     "output_type": "display_data"
    }
   ],
   "source": [
    "opt = optimizeProb(model, algorithm = \"fba\") # Solve the optimization problem\n",
    "opt"
   ]
  },
  {
   "cell_type": "code",
   "execution_count": 128,
   "id": "88fe334e-202b-47ad-aa07-efdc0178bd39",
   "metadata": {},
   "outputs": [
    {
     "data": {
      "text/html": [
       "0.873921506968277"
      ],
      "text/latex": [
       "0.873921506968277"
      ],
      "text/markdown": [
       "0.873921506968277"
      ],
      "text/plain": [
       "[1] 0.8739215"
      ]
     },
     "metadata": {},
     "output_type": "display_data"
    }
   ],
   "source": [
    "lp_obj(opt)"
   ]
  },
  {
   "cell_type": "code",
   "execution_count": 136,
   "id": "d9f80032-4074-40a8-b60a-1cce780b728d",
   "metadata": {},
   "outputs": [],
   "source": [
    "model = changeBounds(model, 'EX_glc(e)', lb = -18.5)"
   ]
  },
  {
   "cell_type": "code",
   "execution_count": 137,
   "id": "a04c3c56-e6b9-4af4-a8e5-9eaa2c704ff0",
   "metadata": {},
   "outputs": [],
   "source": [
    "model2 = changeBounds(model, 'EX_o2(e)', lb = -10000)"
   ]
  },
  {
   "cell_type": "code",
   "execution_count": 138,
   "id": "d9e31549-b32a-4bfa-a39d-d7b326d3b24c",
   "metadata": {},
   "outputs": [
    {
     "data": {
      "text/plain": [
       "solver:                                   glpkAPI\n",
       "method:                                   simplex\n",
       "algorithm:                                fba\n",
       "number of variables:                      95\n",
       "number of constraints:                    72\n",
       "return value of solver:                   solution process was successful\n",
       "solution status:                          solution is optimal\n",
       "value of objective function (fba):        1.653072\n",
       "value of objective function (model):      1.653072"
      ]
     },
     "metadata": {},
     "output_type": "display_data"
    }
   ],
   "source": [
    "opt = optimizeProb(model2, algorithm = \"fba\") # Solve the optimization problem\n",
    "opt"
   ]
  },
  {
   "cell_type": "code",
   "execution_count": 139,
   "id": "5d8d4c30-3b98-499b-84cf-d8422c8974e7",
   "metadata": {},
   "outputs": [],
   "source": [
    "model3 = changeBounds(model2, 'EX_o2(e)', lb = 0)"
   ]
  },
  {
   "cell_type": "code",
   "execution_count": 140,
   "id": "a760a522-9a75-46d9-9399-dce6307eeb69",
   "metadata": {},
   "outputs": [
    {
     "data": {
      "text/plain": [
       "solver:                                   glpkAPI\n",
       "method:                                   simplex\n",
       "algorithm:                                fba\n",
       "number of variables:                      95\n",
       "number of constraints:                    72\n",
       "return value of solver:                   solution process was successful\n",
       "solution status:                          solution is optimal\n",
       "value of objective function (fba):        0.470565\n",
       "value of objective function (model):      0.470565"
      ]
     },
     "metadata": {},
     "output_type": "display_data"
    }
   ],
   "source": [
    "opt = optimizeProb(model3, algorithm = \"fba\") # Solve the optimization problem\n",
    "opt"
   ]
  },
  {
   "cell_type": "code",
   "execution_count": 141,
   "id": "a1b8ffe4-1e9e-4089-82c5-2124ca81c20d",
   "metadata": {},
   "outputs": [],
   "source": [
    "model4 = changeBounds(model, 'EX_glc(e)', lb = 0) #the glucose shortage model"
   ]
  },
  {
   "cell_type": "code",
   "execution_count": 142,
   "id": "359d5e2d-893f-4daf-ab38-e065d6584d0f",
   "metadata": {},
   "outputs": [],
   "source": [
    "model5 = changeBounds(model4, 'EX_succ(e)', lb = -20) "
   ]
  },
  {
   "cell_type": "code",
   "execution_count": 143,
   "id": "11530e3d-388a-4c75-a701-1d2ed180a8a4",
   "metadata": {},
   "outputs": [
    {
     "data": {
      "text/plain": [
       "solver:                                   glpkAPI\n",
       "method:                                   simplex\n",
       "algorithm:                                fba\n",
       "number of variables:                      95\n",
       "number of constraints:                    72\n",
       "return value of solver:                   solution process was successful\n",
       "solution status:                          solution is optimal\n",
       "value of objective function (fba):        0.840134\n",
       "value of objective function (model):      0.840134"
      ]
     },
     "metadata": {},
     "output_type": "display_data"
    }
   ],
   "source": [
    "opt = optimizeProb(model5, algorithm = \"fba\") # Solve the optimization problem\n",
    "opt"
   ]
  },
  {
   "cell_type": "code",
   "execution_count": 144,
   "id": "72ef34e9-c0f3-4de0-8c19-e9bb7205792b",
   "metadata": {},
   "outputs": [],
   "source": [
    "modelx = changeBounds(model5, 'EX_o2(e)', lb = -1000)"
   ]
  },
  {
   "cell_type": "code",
   "execution_count": 145,
   "id": "e42b255b-df50-48ea-b205-4e756559d2c6",
   "metadata": {},
   "outputs": [
    {
     "data": {
      "text/plain": [
       "solver:                                   glpkAPI\n",
       "method:                                   simplex\n",
       "algorithm:                                fba\n",
       "number of variables:                      95\n",
       "number of constraints:                    72\n",
       "return value of solver:                   solution process was successful\n",
       "solution status:                          solution is optimal\n",
       "value of objective function (fba):        0.840134\n",
       "value of objective function (model):      0.840134"
      ]
     },
     "metadata": {},
     "output_type": "display_data"
    }
   ],
   "source": [
    "opt = optimizeProb(modelx, algorithm = \"fba\") # Solve the optimization problem\n",
    "opt"
   ]
  },
  {
   "cell_type": "code",
   "execution_count": 109,
   "id": "603907fa-683e-476d-af67-443181ddb1a4",
   "metadata": {},
   "outputs": [],
   "source": [
    "model6 = changeBounds(model5, 'EX_o2(e)', lb = 0)"
   ]
  },
  {
   "cell_type": "code",
   "execution_count": 110,
   "id": "ce418a19-1eae-4376-93b8-bfb1261b7f2c",
   "metadata": {},
   "outputs": [
    {
     "data": {
      "text/plain": [
       "solver:                                   glpkAPI\n",
       "method:                                   simplex\n",
       "algorithm:                                fba\n",
       "number of variables:                      95\n",
       "number of constraints:                    72\n",
       "return value of solver:                   solution process was successful\n",
       "solution status:                          no feasible solution exists\n",
       "value of objective function (fba):        0.000000\n",
       "value of objective function (model):      0.000000"
      ]
     },
     "metadata": {},
     "output_type": "display_data"
    }
   ],
   "source": [
    "opt = optimizeProb(model6, algorithm = \"fba\") # Solve the optimization problem\n",
    "opt"
   ]
  },
  {
   "cell_type": "code",
   "execution_count": 111,
   "id": "24b33900-0403-429b-a2db-0c61c2d0827a",
   "metadata": {},
   "outputs": [],
   "source": [
    "model7 = changeBounds(model4, 'EX_ac(e)', lb = -20) # ac growth rate"
   ]
  },
  {
   "cell_type": "code",
   "execution_count": 147,
   "id": "09888d1d-8259-4aca-8ef5-ab03cf4785e3",
   "metadata": {},
   "outputs": [],
   "source": [
    "modelx7 = changeBounds(model7, 'EX_o2(e)', lb = -10000)"
   ]
  },
  {
   "cell_type": "code",
   "execution_count": 148,
   "id": "86976f47-80de-4a10-98c5-2b174feeb6a0",
   "metadata": {},
   "outputs": [
    {
     "data": {
      "text/plain": [
       "solver:                                   glpkAPI\n",
       "method:                                   simplex\n",
       "algorithm:                                fba\n",
       "number of variables:                      95\n",
       "number of constraints:                    72\n",
       "return value of solver:                   solution process was successful\n",
       "solution status:                          solution is optimal\n",
       "value of objective function (fba):        0.389313\n",
       "value of objective function (model):      0.389313"
      ]
     },
     "metadata": {},
     "output_type": "display_data"
    }
   ],
   "source": [
    "opt = optimizeProb(modelx7, algorithm = \"fba\") # Solve the optimization problem\n",
    "opt"
   ]
  },
  {
   "cell_type": "code",
   "execution_count": 149,
   "id": "da5ab9fa-e34b-4535-bac6-2a7c47c74de7",
   "metadata": {},
   "outputs": [],
   "source": [
    "model8 = changeBounds(modelx7, 'EX_o2(e)', lb = 0)"
   ]
  },
  {
   "cell_type": "code",
   "execution_count": 150,
   "id": "8df05f48-ff49-46d6-a6e5-3b5b6d4e8d09",
   "metadata": {},
   "outputs": [
    {
     "data": {
      "text/plain": [
       "solver:                                   glpkAPI\n",
       "method:                                   simplex\n",
       "algorithm:                                fba\n",
       "number of variables:                      95\n",
       "number of constraints:                    72\n",
       "return value of solver:                   solution process was successful\n",
       "solution status:                          no feasible solution exists\n",
       "value of objective function (fba):        0.000000\n",
       "value of objective function (model):      0.000000"
      ]
     },
     "metadata": {},
     "output_type": "display_data"
    }
   ],
   "source": [
    "opt = optimizeProb(model8, algorithm = \"fba\") # Solve the optimization problem\n",
    "opt"
   ]
  },
  {
   "cell_type": "code",
   "execution_count": 115,
   "id": "36ca9b68-a956-4f1d-835e-288d17eaf921",
   "metadata": {},
   "outputs": [],
   "source": [
    "model9 = changeBounds(model4, 'EX_acald(e)', lb = -20) # acald growth rate"
   ]
  },
  {
   "cell_type": "code",
   "execution_count": 151,
   "id": "f41c3ef0-8d00-45f6-aaca-a891e7328cc3",
   "metadata": {},
   "outputs": [],
   "source": [
    "modelx9 = changeBounds(model9, 'EX_o2(e)', lb = -10000)"
   ]
  },
  {
   "cell_type": "code",
   "execution_count": 152,
   "id": "2737c366-ae43-4249-8a02-b7734ac9d9df",
   "metadata": {},
   "outputs": [
    {
     "data": {
      "text/plain": [
       "solver:                                   glpkAPI\n",
       "method:                                   simplex\n",
       "algorithm:                                fba\n",
       "number of variables:                      95\n",
       "number of constraints:                    72\n",
       "return value of solver:                   solution process was successful\n",
       "solution status:                          solution is optimal\n",
       "value of objective function (fba):        0.607269\n",
       "value of objective function (model):      0.607269"
      ]
     },
     "metadata": {},
     "output_type": "display_data"
    }
   ],
   "source": [
    "opt = optimizeProb(modelx9, algorithm = \"fba\") # Solve the optimization problem\n",
    "opt"
   ]
  },
  {
   "cell_type": "code",
   "execution_count": 153,
   "id": "6e2f0aaf-ac87-476e-be47-e9eb1d706700",
   "metadata": {},
   "outputs": [],
   "source": [
    "model10 = changeBounds(modelx9, 'EX_o2(e)', lb = 0)"
   ]
  },
  {
   "cell_type": "code",
   "execution_count": 154,
   "id": "a97c2f4a-ad9c-40df-8049-e52c3d5b9cf7",
   "metadata": {},
   "outputs": [
    {
     "data": {
      "text/plain": [
       "solver:                                   glpkAPI\n",
       "method:                                   simplex\n",
       "algorithm:                                fba\n",
       "number of variables:                      95\n",
       "number of constraints:                    72\n",
       "return value of solver:                   solution process was successful\n",
       "solution status:                          solution is optimal\n",
       "value of objective function (fba):        -0.000000\n",
       "value of objective function (model):      -0.000000"
      ]
     },
     "metadata": {},
     "output_type": "display_data"
    }
   ],
   "source": [
    "opt = optimizeProb(model10, algorithm = \"fba\") # Solve the optimization problem\n",
    "opt"
   ]
  },
  {
   "cell_type": "code",
   "execution_count": 119,
   "id": "005dc0a6-3e84-4472-ab71-2b5720f5eabb",
   "metadata": {},
   "outputs": [],
   "source": [
    "model11 = changeBounds(model4, 'EX_akg(e)', lb = -20) # akg growth rate"
   ]
  },
  {
   "cell_type": "code",
   "execution_count": 120,
   "id": "675d4bcf-da4a-4f34-bb59-7c77f8d6805c",
   "metadata": {},
   "outputs": [
    {
     "data": {
      "text/plain": [
       "solver:                                   glpkAPI\n",
       "method:                                   simplex\n",
       "algorithm:                                fba\n",
       "number of variables:                      95\n",
       "number of constraints:                    72\n",
       "return value of solver:                   solution process was successful\n",
       "solution status:                          solution is optimal\n",
       "value of objective function (fba):        1.098169\n",
       "value of objective function (model):      1.098169"
      ]
     },
     "metadata": {},
     "output_type": "display_data"
    }
   ],
   "source": [
    "opt = optimizeProb(model11, algorithm = \"fba\") # Solve the optimization problem\n",
    "opt"
   ]
  },
  {
   "cell_type": "code",
   "execution_count": 50,
   "id": "1f1f8448-f9df-46c3-a279-ecd71eea1ad3",
   "metadata": {},
   "outputs": [],
   "source": [
    "model12 = changeBounds(model11, 'EX_o2(e)', lb = 0)"
   ]
  },
  {
   "cell_type": "code",
   "execution_count": 51,
   "id": "3e0fe3d5-d19d-480f-87e1-b3044521d645",
   "metadata": {},
   "outputs": [
    {
     "data": {
      "text/plain": [
       "solver:                                   glpkAPI\n",
       "method:                                   simplex\n",
       "algorithm:                                fba\n",
       "number of variables:                      95\n",
       "number of constraints:                    72\n",
       "return value of solver:                   solution process was successful\n",
       "solution status:                          no feasible solution exists\n",
       "value of objective function (fba):        0.000000\n",
       "value of objective function (model):      0.000000"
      ]
     },
     "metadata": {},
     "output_type": "display_data"
    }
   ],
   "source": [
    "opt = optimizeProb(model12, algorithm = \"fba\") # Solve the optimization problem\n",
    "opt"
   ]
  },
  {
   "cell_type": "code",
   "execution_count": 52,
   "id": "d7767192-727a-482c-bec0-9da45ad2138e",
   "metadata": {},
   "outputs": [],
   "source": [
    "model13 = changeBounds(model4, 'EX_etoh(e)', lb = -20) # akg growth rate"
   ]
  },
  {
   "cell_type": "code",
   "execution_count": 53,
   "id": "2448f52a-1d1e-44cb-b2cb-981c69bd13ce",
   "metadata": {},
   "outputs": [
    {
     "data": {
      "text/plain": [
       "solver:                                   glpkAPI\n",
       "method:                                   simplex\n",
       "algorithm:                                fba\n",
       "number of variables:                      95\n",
       "number of constraints:                    72\n",
       "return value of solver:                   solution process was successful\n",
       "solution status:                          solution is optimal\n",
       "value of objective function (fba):        0.699552\n",
       "value of objective function (model):      0.699552"
      ]
     },
     "metadata": {},
     "output_type": "display_data"
    }
   ],
   "source": [
    "opt = optimizeProb(model13, algorithm = \"fba\") # Solve the optimization problem\n",
    "opt"
   ]
  },
  {
   "cell_type": "code",
   "execution_count": 54,
   "id": "8db96ca5-923e-4e19-948f-feb6535dba0b",
   "metadata": {},
   "outputs": [],
   "source": [
    "model14 = changeBounds(model13, 'EX_o2(e)', lb = 0)"
   ]
  },
  {
   "cell_type": "code",
   "execution_count": 55,
   "id": "18216073-3941-4ed7-ab6d-049c544c4624",
   "metadata": {},
   "outputs": [
    {
     "data": {
      "text/plain": [
       "solver:                                   glpkAPI\n",
       "method:                                   simplex\n",
       "algorithm:                                fba\n",
       "number of variables:                      95\n",
       "number of constraints:                    72\n",
       "return value of solver:                   solution process was successful\n",
       "solution status:                          no feasible solution exists\n",
       "value of objective function (fba):        0.000000\n",
       "value of objective function (model):      0.000000"
      ]
     },
     "metadata": {},
     "output_type": "display_data"
    }
   ],
   "source": [
    "opt = optimizeProb(model14, algorithm = \"fba\") # Solve the optimization problem\n",
    "opt"
   ]
  },
  {
   "cell_type": "code",
   "execution_count": 56,
   "id": "62375d91-87e6-4395-ac08-c6bb32385955",
   "metadata": {},
   "outputs": [],
   "source": [
    "model15 = changeBounds(model4, 'EX_fru(e)', lb = -20) # fru growth rate"
   ]
  },
  {
   "cell_type": "code",
   "execution_count": 57,
   "id": "ca896083-95c4-48ba-be66-7018d98641fb",
   "metadata": {},
   "outputs": [
    {
     "data": {
      "text/plain": [
       "solver:                                   glpkAPI\n",
       "method:                                   simplex\n",
       "algorithm:                                fba\n",
       "number of variables:                      95\n",
       "number of constraints:                    72\n",
       "return value of solver:                   solution process was successful\n",
       "solution status:                          solution is optimal\n",
       "value of objective function (fba):        1.790569\n",
       "value of objective function (model):      1.790569"
      ]
     },
     "metadata": {},
     "output_type": "display_data"
    }
   ],
   "source": [
    "opt = optimizeProb(model15, algorithm = \"fba\") # Solve the optimization problem\n",
    "opt"
   ]
  },
  {
   "cell_type": "code",
   "execution_count": 58,
   "id": "aa428fef-9b1b-4de6-b4d5-2119bf50e259",
   "metadata": {},
   "outputs": [],
   "source": [
    "model16 = changeBounds(model15, 'EX_o2(e)', lb = 0)"
   ]
  },
  {
   "cell_type": "code",
   "execution_count": 59,
   "id": "19eb9e1b-fb6a-4f88-ae3f-3e933d6039ab",
   "metadata": {},
   "outputs": [
    {
     "data": {
      "text/plain": [
       "solver:                                   glpkAPI\n",
       "method:                                   simplex\n",
       "algorithm:                                fba\n",
       "number of variables:                      95\n",
       "number of constraints:                    72\n",
       "return value of solver:                   solution process was successful\n",
       "solution status:                          solution is optimal\n",
       "value of objective function (fba):        0.516254\n",
       "value of objective function (model):      0.516254"
      ]
     },
     "metadata": {},
     "output_type": "display_data"
    }
   ],
   "source": [
    "opt = optimizeProb(model16, algorithm = \"fba\") # Solve the optimization problem\n",
    "opt"
   ]
  },
  {
   "cell_type": "code",
   "execution_count": 70,
   "id": "241ac486-5ded-4242-932a-6ac474cc6139",
   "metadata": {},
   "outputs": [],
   "source": [
    "model17 = changeBounds(model4, 'EX_fum(e)', lb = -20) # fumarate growth rate"
   ]
  },
  {
   "cell_type": "code",
   "execution_count": 71,
   "id": "6102c305-88cb-4782-8a9c-025728406c24",
   "metadata": {},
   "outputs": [
    {
     "data": {
      "text/plain": [
       "solver:                                   glpkAPI\n",
       "method:                                   simplex\n",
       "algorithm:                                fba\n",
       "number of variables:                      95\n",
       "number of constraints:                    72\n",
       "return value of solver:                   solution process was successful\n",
       "solution status:                          solution is optimal\n",
       "value of objective function (fba):        0.786489\n",
       "value of objective function (model):      0.786489"
      ]
     },
     "metadata": {},
     "output_type": "display_data"
    }
   ],
   "source": [
    "opt = optimizeProb(model17, algorithm = \"fba\") # Solve the optimization problem\n",
    "opt"
   ]
  },
  {
   "cell_type": "code",
   "execution_count": 72,
   "id": "d2fa03bb-2125-4521-965c-158d5e142ef6",
   "metadata": {},
   "outputs": [],
   "source": [
    "model18 = changeBounds(model17, 'EX_o2(e)', lb = 0)"
   ]
  },
  {
   "cell_type": "code",
   "execution_count": 73,
   "id": "4a75588a-0ea3-45e5-8ded-8a28497fc6fc",
   "metadata": {},
   "outputs": [
    {
     "data": {
      "text/plain": [
       "solver:                                   glpkAPI\n",
       "method:                                   simplex\n",
       "algorithm:                                fba\n",
       "number of variables:                      95\n",
       "number of constraints:                    72\n",
       "return value of solver:                   solution process was successful\n",
       "solution status:                          no feasible solution exists\n",
       "value of objective function (fba):        0.000000\n",
       "value of objective function (model):      0.000000"
      ]
     },
     "metadata": {},
     "output_type": "display_data"
    }
   ],
   "source": [
    "opt = optimizeProb(model18, algorithm = \"fba\") # Solve the optimization problem\n",
    "opt"
   ]
  },
  {
   "cell_type": "code",
   "execution_count": 121,
   "id": "f881aed4-b325-419d-824d-c0b6f1d34ad0",
   "metadata": {},
   "outputs": [
    {
     "name": "stderr",
     "output_type": "stream",
     "text": [
      "Warning message:\n",
      "“some reaction id's were not found or are ambiguous”\n"
     ]
    },
    {
     "ename": "ERROR",
     "evalue": "Error in changeBounds(model4, \"EX_glu_D(e)\", lb = -20): argument react is wrong\n",
     "output_type": "error",
     "traceback": [
      "Error in changeBounds(model4, \"EX_glu_D(e)\", lb = -20): argument react is wrong\nTraceback:\n",
      "1. changeBounds(model4, \"EX_glu_D(e)\", lb = -20)",
      "2. stop(\"argument react is wrong\")"
     ]
    }
   ],
   "source": [
    "model19 = changeBounds(model4, 'EX_glu_D(e)', lb = -20) # D-glucose growth rate"
   ]
  },
  {
   "cell_type": "code",
   "execution_count": 85,
   "id": "b962a538-8815-4f34-a7f4-4e8830da56a8",
   "metadata": {},
   "outputs": [],
   "source": [
    "model21 = changeBounds(model4, 'EX_gln_L(e)', lb = -20) # L-glutamine growth rate"
   ]
  },
  {
   "cell_type": "code",
   "execution_count": 86,
   "id": "5c48405b-67e3-4221-9854-a2b43bd9efe9",
   "metadata": {},
   "outputs": [
    {
     "data": {
      "text/plain": [
       "solver:                                   glpkAPI\n",
       "method:                                   simplex\n",
       "algorithm:                                fba\n",
       "number of variables:                      95\n",
       "number of constraints:                    72\n",
       "return value of solver:                   solution process was successful\n",
       "solution status:                          solution is optimal\n",
       "value of objective function (fba):        1.163600\n",
       "value of objective function (model):      1.163600"
      ]
     },
     "metadata": {},
     "output_type": "display_data"
    }
   ],
   "source": [
    "opt = optimizeProb(model21, algorithm = \"fba\") # Solve the optimization problem\n",
    "opt"
   ]
  },
  {
   "cell_type": "code",
   "execution_count": 87,
   "id": "61c7bcd9-60ae-4f3c-84c5-316fc986c531",
   "metadata": {},
   "outputs": [],
   "source": [
    "model22 = changeBounds(model21, 'EX_o2(e)', lb = 0)"
   ]
  },
  {
   "cell_type": "code",
   "execution_count": 88,
   "id": "413d632d-5f9a-4d1a-bbbd-62665d4d1426",
   "metadata": {},
   "outputs": [
    {
     "data": {
      "text/plain": [
       "solver:                                   glpkAPI\n",
       "method:                                   simplex\n",
       "algorithm:                                fba\n",
       "number of variables:                      95\n",
       "number of constraints:                    72\n",
       "return value of solver:                   solution process was successful\n",
       "solution status:                          no feasible solution exists\n",
       "value of objective function (fba):        0.000000\n",
       "value of objective function (model):      0.000000"
      ]
     },
     "metadata": {},
     "output_type": "display_data"
    }
   ],
   "source": [
    "opt = optimizeProb(model22, algorithm = \"fba\") # Solve the optimization problem\n",
    "opt"
   ]
  },
  {
   "cell_type": "code",
   "execution_count": 90,
   "id": "e468c0ba-4163-4c58-86be-8f0249a6451f",
   "metadata": {},
   "outputs": [],
   "source": [
    "model23 = changeBounds(model4, 'EX_glu_L(e)', lb = -20) # L-glutamate growth rate"
   ]
  },
  {
   "cell_type": "code",
   "execution_count": 91,
   "id": "125f80ef-9e51-4e63-869d-bdaaf4e0782c",
   "metadata": {},
   "outputs": [
    {
     "data": {
      "text/plain": [
       "solver:                                   glpkAPI\n",
       "method:                                   simplex\n",
       "algorithm:                                fba\n",
       "number of variables:                      95\n",
       "number of constraints:                    72\n",
       "return value of solver:                   solution process was successful\n",
       "solution status:                          solution is optimal\n",
       "value of objective function (fba):        1.242472\n",
       "value of objective function (model):      1.242472"
      ]
     },
     "metadata": {},
     "output_type": "display_data"
    }
   ],
   "source": [
    "opt = optimizeProb(model23, algorithm = \"fba\") # Solve the optimization problem\n",
    "opt"
   ]
  },
  {
   "cell_type": "code",
   "execution_count": 92,
   "id": "dc1ed2b6-3b04-49d4-9fa0-d0ed1856bece",
   "metadata": {},
   "outputs": [],
   "source": [
    "model24 = changeBounds(model23, 'EX_o2(e)', lb = 0)"
   ]
  },
  {
   "cell_type": "code",
   "execution_count": 93,
   "id": "ea162d7d-49a6-4a31-b5ce-7f5314bcff7e",
   "metadata": {},
   "outputs": [
    {
     "data": {
      "text/plain": [
       "solver:                                   glpkAPI\n",
       "method:                                   simplex\n",
       "algorithm:                                fba\n",
       "number of variables:                      95\n",
       "number of constraints:                    72\n",
       "return value of solver:                   solution process was successful\n",
       "solution status:                          no feasible solution exists\n",
       "value of objective function (fba):        0.000000\n",
       "value of objective function (model):      0.000000"
      ]
     },
     "metadata": {},
     "output_type": "display_data"
    }
   ],
   "source": [
    "opt = optimizeProb(model24, algorithm = \"fba\") # Solve the optimization problem\n",
    "opt"
   ]
  },
  {
   "cell_type": "code",
   "execution_count": 94,
   "id": "d8fd8909-b99d-4b10-a47a-42281955cd62",
   "metadata": {},
   "outputs": [],
   "source": [
    "model25 = changeBounds(model4, 'EX_lac_D(e)', lb = -20) # D-lactate growth rate"
   ]
  },
  {
   "cell_type": "code",
   "execution_count": 95,
   "id": "09b3041d-da50-44ca-bc18-3ae0a93c9579",
   "metadata": {},
   "outputs": [
    {
     "data": {
      "text/plain": [
       "solver:                                   glpkAPI\n",
       "method:                                   simplex\n",
       "algorithm:                                fba\n",
       "number of variables:                      95\n",
       "number of constraints:                    72\n",
       "return value of solver:                   solution process was successful\n",
       "solution status:                          solution is optimal\n",
       "value of objective function (fba):        0.740281\n",
       "value of objective function (model):      0.740281"
      ]
     },
     "metadata": {},
     "output_type": "display_data"
    }
   ],
   "source": [
    "opt = optimizeProb(model25, algorithm = \"fba\") # Solve the optimization problem\n",
    "opt"
   ]
  },
  {
   "cell_type": "code",
   "execution_count": 96,
   "id": "1cd6bd94-fa04-48d4-adcc-f9ffd05b13a1",
   "metadata": {},
   "outputs": [],
   "source": [
    "model26 = changeBounds(model25, 'EX_o2(e)', lb = 0)"
   ]
  },
  {
   "cell_type": "code",
   "execution_count": 97,
   "id": "aae9dd18-88b6-48c7-b873-b8161892a281",
   "metadata": {},
   "outputs": [
    {
     "data": {
      "text/plain": [
       "solver:                                   glpkAPI\n",
       "method:                                   simplex\n",
       "algorithm:                                fba\n",
       "number of variables:                      95\n",
       "number of constraints:                    72\n",
       "return value of solver:                   solution process was successful\n",
       "solution status:                          no feasible solution exists\n",
       "value of objective function (fba):        0.000000\n",
       "value of objective function (model):      0.000000"
      ]
     },
     "metadata": {},
     "output_type": "display_data"
    }
   ],
   "source": [
    "opt = optimizeProb(model26, algorithm = \"fba\") # Solve the optimization problem\n",
    "opt"
   ]
  },
  {
   "cell_type": "code",
   "execution_count": 98,
   "id": "ec810617-6d62-4649-9573-3f4c8951c67f",
   "metadata": {},
   "outputs": [],
   "source": [
    "model27 = changeBounds(model4, 'EX_mal_L(e)', lb = -20) # L-malate growth rate"
   ]
  },
  {
   "cell_type": "code",
   "execution_count": 99,
   "id": "502a8804-dc89-4ac4-ad29-7fd36c3d97e9",
   "metadata": {},
   "outputs": [
    {
     "data": {
      "text/plain": [
       "solver:                                   glpkAPI\n",
       "method:                                   simplex\n",
       "algorithm:                                fba\n",
       "number of variables:                      95\n",
       "number of constraints:                    72\n",
       "return value of solver:                   solution process was successful\n",
       "solution status:                          solution is optimal\n",
       "value of objective function (fba):        0.786489\n",
       "value of objective function (model):      0.786489"
      ]
     },
     "metadata": {},
     "output_type": "display_data"
    }
   ],
   "source": [
    "opt = optimizeProb(model27, algorithm = \"fba\") # Solve the optimization problem\n",
    "opt"
   ]
  },
  {
   "cell_type": "code",
   "execution_count": 100,
   "id": "9b9f6f4b-976f-4135-9820-b7cd676e1cae",
   "metadata": {},
   "outputs": [],
   "source": [
    "model28 = changeBounds(model27, 'EX_o2(e)', lb = 0)"
   ]
  },
  {
   "cell_type": "code",
   "execution_count": 101,
   "id": "acb5d0fc-f9d7-48e8-84f6-00296555df61",
   "metadata": {},
   "outputs": [
    {
     "data": {
      "text/plain": [
       "solver:                                   glpkAPI\n",
       "method:                                   simplex\n",
       "algorithm:                                fba\n",
       "number of variables:                      95\n",
       "number of constraints:                    72\n",
       "return value of solver:                   solution process was successful\n",
       "solution status:                          no feasible solution exists\n",
       "value of objective function (fba):        0.000000\n",
       "value of objective function (model):      0.000000"
      ]
     },
     "metadata": {},
     "output_type": "display_data"
    }
   ],
   "source": [
    "opt = optimizeProb(model28, algorithm = \"fba\") # Solve the optimization problem\n",
    "opt"
   ]
  },
  {
   "cell_type": "code",
   "execution_count": 102,
   "id": "02d609bc-4578-4ddb-b6bf-9ce890f65628",
   "metadata": {},
   "outputs": [],
   "source": [
    "model29 = changeBounds(model4, 'EX_pyr(e)', lb = -20) # pyruvate growth rate"
   ]
  },
  {
   "cell_type": "code",
   "execution_count": 103,
   "id": "26c127e0-3a8d-47a9-a29b-2e05baf1be8a",
   "metadata": {},
   "outputs": [
    {
     "data": {
      "text/plain": [
       "solver:                                   glpkAPI\n",
       "method:                                   simplex\n",
       "algorithm:                                fba\n",
       "number of variables:                      95\n",
       "number of constraints:                    72\n",
       "return value of solver:                   solution process was successful\n",
       "solution status:                          solution is optimal\n",
       "value of objective function (fba):        0.622108\n",
       "value of objective function (model):      0.622108"
      ]
     },
     "metadata": {},
     "output_type": "display_data"
    }
   ],
   "source": [
    "opt = optimizeProb(model29, algorithm = \"fba\") # Solve the optimization problem\n",
    "opt"
   ]
  },
  {
   "cell_type": "code",
   "execution_count": 104,
   "id": "e3fe6d83-a39a-440c-8e51-821b37fc2319",
   "metadata": {},
   "outputs": [],
   "source": [
    "model30 = changeBounds(model29, 'EX_o2(e)', lb = 0)"
   ]
  },
  {
   "cell_type": "code",
   "execution_count": 105,
   "id": "94b47490-13e5-454a-b8b1-a626399bbea0",
   "metadata": {},
   "outputs": [
    {
     "data": {
      "text/plain": [
       "solver:                                   glpkAPI\n",
       "method:                                   simplex\n",
       "algorithm:                                fba\n",
       "number of variables:                      95\n",
       "number of constraints:                    72\n",
       "return value of solver:                   solution process was successful\n",
       "solution status:                          solution is optimal\n",
       "value of objective function (fba):        0.065542\n",
       "value of objective function (model):      0.065542"
      ]
     },
     "metadata": {},
     "output_type": "display_data"
    }
   ],
   "source": [
    "opt = optimizeProb(model30, algorithm = \"fba\") # Solve the optimization problem\n",
    "opt"
   ]
  },
  {
   "cell_type": "code",
   "execution_count": null,
   "id": "3ad18931-7702-4e89-9b2e-21ce525e6e4d",
   "metadata": {},
   "outputs": [],
   "source": []
  }
 ],
 "metadata": {
  "kernelspec": {
   "display_name": "R",
   "language": "R",
   "name": "ir"
  },
  "language_info": {
   "codemirror_mode": "r",
   "file_extension": ".r",
   "mimetype": "text/x-r-source",
   "name": "R",
   "pygments_lexer": "r",
   "version": "4.2.2"
  }
 },
 "nbformat": 4,
 "nbformat_minor": 5
}
