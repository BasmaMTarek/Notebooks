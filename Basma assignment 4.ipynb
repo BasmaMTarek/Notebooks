{
 "cells": [
  {
   "cell_type": "code",
   "execution_count": 1,
   "id": "95954ac3-a5f4-4b79-97e8-a8d57a0518e3",
   "metadata": {},
   "outputs": [
    {
     "name": "stderr",
     "output_type": "stream",
     "text": [
      "Loading required package: Matrix\n",
      "\n",
      "Loading required package: lattice\n",
      "\n"
     ]
    }
   ],
   "source": [
    "library(sybil)"
   ]
  },
  {
   "cell_type": "code",
   "execution_count": 2,
   "id": "8fb6e957-ce6b-4876-b439-2f60fffd355a",
   "metadata": {},
   "outputs": [],
   "source": [
    "mp = system.file(package = \"sybil\", \"extdata\")"
   ]
  },
  {
   "cell_type": "code",
   "execution_count": 3,
   "id": "8ac96bf6-c251-4c43-a78b-1f677f262f6e",
   "metadata": {},
   "outputs": [
    {
     "name": "stderr",
     "output_type": "stream",
     "text": [
      "reading model description, ... \n",
      "OK\n",
      "\n",
      "reading metabolite list ... \n",
      "OK\n",
      "\n",
      "parsing reaction list ... \n",
      "OK\n",
      "\n",
      "GPR mapping ... \n",
      "OK\n",
      "\n",
      "sub systems ... \n",
      "OK\n",
      "\n",
      "prepare modelorg object ... \n",
      "OK\n",
      "\n",
      "validating object ... \n",
      "OK\n",
      "\n"
     ]
    }
   ],
   "source": [
    "model = readTSVmod(prefix = \"Ec_core\", fpath = mp, quoteChar = \"\\\"\")"
   ]
  },
  {
   "cell_type": "code",
   "execution_count": 4,
   "id": "b54dd2a3-9d86-4809-8d7e-a408d57eee5b",
   "metadata": {},
   "outputs": [
    {
     "data": {
      "text/plain": [
       "model name:             Ecoli_core_model \n",
       "number of compartments  2 \n",
       "                        C_c \n",
       "                        C_e \n",
       "number of reactions:    95 \n",
       "number of metabolites:  72 \n",
       "number of unique genes: 137 \n",
       "objective function:     +1 Biomass_Ecoli_core_w_GAM "
      ]
     },
     "metadata": {},
     "output_type": "display_data"
    }
   ],
   "source": [
    "model # Display the model"
   ]
  },
  {
   "cell_type": "code",
   "execution_count": 5,
   "id": "e21b7eab-930b-4f93-9a74-c256ccb5a665",
   "metadata": {},
   "outputs": [
    {
     "name": "stderr",
     "output_type": "stream",
     "text": [
      "Loading required package: glpkAPI\n",
      "\n",
      "using GLPK version 5.0\n",
      "\n"
     ]
    },
    {
     "data": {
      "text/plain": [
       "solver:                                   glpkAPI\n",
       "method:                                   simplex\n",
       "algorithm:                                fba\n",
       "number of variables:                      95\n",
       "number of constraints:                    72\n",
       "return value of solver:                   solution process was successful\n",
       "solution status:                          solution is optimal\n",
       "value of objective function (fba):        0.873922\n",
       "value of objective function (model):      0.873922"
      ]
     },
     "metadata": {},
     "output_type": "display_data"
    }
   ],
   "source": [
    "opt = optimizeProb(model, algorithm = \"fba\") # Solve the optimization problem\n",
    "opt"
   ]
  },
  {
   "cell_type": "code",
   "execution_count": 6,
   "id": "360e55e9-6e90-4b41-938c-271e92df307b",
   "metadata": {},
   "outputs": [
    {
     "data": {
      "text/html": [
       "0.873921506968277"
      ],
      "text/latex": [
       "0.873921506968277"
      ],
      "text/markdown": [
       "0.873921506968277"
      ],
      "text/plain": [
       "[1] 0.8739215"
      ]
     },
     "metadata": {},
     "output_type": "display_data"
    }
   ],
   "source": [
    "lp_obj(opt)"
   ]
  },
  {
   "cell_type": "code",
   "execution_count": 10,
   "id": "84be0140-97f7-4f73-b414-9044e7573c7d",
   "metadata": {},
   "outputs": [
    {
     "data": {
      "text/plain": [
       "solver:                                   glpkAPI\n",
       "method:                                   simplex\n",
       "algorithm:                                fba\n",
       "number of variables:                      95\n",
       "number of constraints:                    72\n",
       "return value of solver:                   solution process was successful\n",
       "solution status:                          solution is optimal\n",
       "value of objective function (fba):        0.211663\n",
       "value of objective function (model):      0.211663"
      ]
     },
     "metadata": {},
     "output_type": "display_data"
    }
   ],
   "source": [
    "ko = optimizeProb(model, gene = \"b2276\", lb = 0, ub = 0)\n",
    "ko"
   ]
  },
  {
   "cell_type": "code",
   "execution_count": 11,
   "id": "9a704788-dc31-4182-8cde-7df199958acf",
   "metadata": {},
   "outputs": [
    {
     "name": "stderr",
     "output_type": "stream",
     "text": [
      "compute affected fluxes ... \n",
      "OK\n",
      "\n",
      "calculating 137 optimizations ... \n"
     ]
    },
    {
     "name": "stdout",
     "output_type": "stream",
     "text": [
      "\n",
      "|            :            |            :            | 100 %\n",
      "|===================================================| :-) \n"
     ]
    },
    {
     "name": "stderr",
     "output_type": "stream",
     "text": [
      "OK\n",
      "\n",
      "Done.\n",
      "\n"
     ]
    }
   ],
   "source": [
    "del = geneDeletion(model)"
   ]
  },
  {
   "cell_type": "code",
   "execution_count": 12,
   "id": "5169e3b3-5a6d-4e20-a7e6-001af2e2ac21",
   "metadata": {},
   "outputs": [
    {
     "data": {
      "image/png": "[encoded data removed]",
      "text/plain": [
       "plot without title"
      ]
     },
     "metadata": {
      "image/png": {
       "height": 420,
       "width": 420
      }
     },
     "output_type": "display_data"
    }
   ],
   "source": [
    "plot(del)"
   ]
  },
  {
   "cell_type": "code",
   "execution_count": 14,
   "id": "f60187ba-bae3-458b-b1ae-a07d8c48e7b9",
   "metadata": {},
   "outputs": [
    {
     "name": "stderr",
     "output_type": "stream",
     "text": [
      "compute affected fluxes ... \n",
      "OK\n",
      "\n",
      "calculating 2 optimizations ... \n"
     ]
    },
    {
     "name": "stdout",
     "output_type": "stream",
     "text": [
      "\n",
      "|            :            |            :            | 100 %\n",
      "|= = = = = = = = = = = = = = = = = = = = = = = = == = = = = = = = = = = = = = = = = = = = = = = = = =| :-) \n"
     ]
    },
    {
     "name": "stderr",
     "output_type": "stream",
     "text": [
      "OK\n",
      "\n",
      "Done.\n",
      "\n"
     ]
    }
   ],
   "source": [
    "del2 = geneDeletion(model, 2)"
   ]
  },
  {
   "cell_type": "code",
   "execution_count": 15,
   "id": "32499b5a-6e9b-4c40-924f-eb900d75bfdb",
   "metadata": {},
   "outputs": [
    {
     "data": {
      "image/png": "[encoded data removed]",
      "text/plain": [
       "plot without title"
      ]
     },
     "metadata": {
      "image/png": {
       "height": 420,
       "width": 420
      }
     },
     "output_type": "display_data"
    }
   ],
   "source": [
    "plot(del2)"
   ]
  },
  {
   "cell_type": "code",
   "execution_count": 18,
   "id": "76e826e4-92ec-43b6-b0bb-88760a30886b",
   "metadata": {},
   "outputs": [],
   "source": [
    "model2x = changeBounds(model, 'EX_glc(e)', lb = -1)"
   ]
  },
  {
   "cell_type": "code",
   "execution_count": 19,
   "id": "22b65b52-a97d-452e-89fe-7e10aa956306",
   "metadata": {},
   "outputs": [],
   "source": [
    "model2xx = addReact(model, 'NADH_drain', c('nadh[c]', 'nad[c]', 'h[c]'), c\n",
    "(-1, 1, 1))"
   ]
  },
  {
   "cell_type": "code",
   "execution_count": 22,
   "id": "0169d741-1dbf-419e-b0df-8b5be6156976",
   "metadata": {},
   "outputs": [],
   "source": [
    "model2xxx = changeBounds(model2xx, 'EX_glc(e)', lb = -1000)"
   ]
  },
  {
   "cell_type": "code",
   "execution_count": null,
   "id": "3b16a21f-6bed-49df-b2b1-6662ebb32eec",
   "metadata": {},
   "outputs": [],
   "source": []
  }
 ],
 "metadata": {
  "kernelspec": {
   "display_name": "R",
   "language": "R",
   "name": "ir"
  },
  "language_info": {
   "codemirror_mode": "r",
   "file_extension": ".r",
   "mimetype": "text/x-r-source",
   "name": "R",
   "pygments_lexer": "r",
   "version": "4.2.2"
  }
 },
 "nbformat": 4,
 "nbformat_minor": 5
}
