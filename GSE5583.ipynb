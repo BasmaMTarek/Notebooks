{
  "nbformat": 4,
  "nbformat_minor": 0,
  "metadata": {
    "kernelspec": {
      "display_name": "R",
      "language": "R",
      "name": "ir"
    },
    "language_info": {
      "codemirror_mode": "r",
      "file_extension": ".r",
      "mimetype": "text/x-r-source",
      "name": "R",
      "pygments_lexer": "r",
      "version": "3.3.1"
    },
    "colab": {
      "name": "GSE5583",
      "provenance": [],
      "collapsed_sections": [],
      "include_colab_link": true
    }
  },
  "cells": [
    {
      "cell_type": "markdown",
      "metadata": {
        "id": "view-in-github",
        "colab_type": "text"
      },
      "source": [
        "<a href=\"https://colab.research.google.com/github/ahmedmoustafa/Notebooks/blob/master/GSE5583.ipynb\" target=\"_parent\"><img src=\"https://colab.research.google.com/assets/colab-badge.svg\" alt=\"Open In Colab\"/></a>"
      ]
    },
    {
      "cell_type": "markdown",
      "metadata": {
        "id": "7G9n7ivlqpYU"
      },
      "source": [
        "# GSE5583\n",
        "---\n",
        "\n",
        "Negative and positive regulation of gene expression by mouse [histone deacetylase 1](https://en.wikipedia.org/wiki/Histone_deacetylase)\n",
        "\n",
        "[[PMID: 16940178](https://pubmed.ncbi.nlm.nih.gov/16940178/)]\n"
      ]
    },
    {
      "cell_type": "markdown",
      "metadata": {
        "id": "ADEG9Voss5cK"
      },
      "source": [
        "## Loading the data"
      ]
    },
    {
      "cell_type": "code",
      "metadata": {
        "id": "_TiXy1LRVKCc",
        "outputId": "39073b2e-a955-4cd8-bde1-aba74c22240d",
        "colab": {
          "base_uri": "https://localhost:8080/",
          "height": 204
        }
      },
      "source": [
        "data = read.table (\"https://raw.githubusercontent.com/ahmedmoustafa/Notebooks/master/data/GSE5583.tsv\", row.names = 1, header = TRUE)\n",
        "head(data)"
      ],
      "execution_count": 1,
      "outputs": [
        {
          "output_type": "display_data",
          "data": {
            "text/plain": [
              "          WT1    WT2    WT3    KO1    KO2    KO3   \n",
              "100001_at   11.5    5.6   69.1   15.7   36.0   42.0\n",
              "100002_at   20.5   32.4   93.3   31.8   14.4   22.9\n",
              "100003_at   72.4   89.0   79.2   80.5  130.1   86.7\n",
              "100004_at  261.0  226.2  365.1  432.0  447.3  288.1\n",
              "100005_at 1086.2 1555.6 1487.1 1062.2 1365.9 1436.2\n",
              "100006_at   49.7   52.9   15.0   25.8   48.8   54.8"
            ],
            "text/latex": "A data.frame: 6 × 6\n\\begin{tabular}{r|llllll}\n  & WT1 & WT2 & WT3 & KO1 & KO2 & KO3\\\\\n  & <dbl> & <dbl> & <dbl> & <dbl> & <dbl> & <dbl>\\\\\n\\hline\n\t100001\\_at &   11.5 &    5.6 &   69.1 &   15.7 &   36.0 &   42.0\\\\\n\t100002\\_at &   20.5 &   32.4 &   93.3 &   31.8 &   14.4 &   22.9\\\\\n\t100003\\_at &   72.4 &   89.0 &   79.2 &   80.5 &  130.1 &   86.7\\\\\n\t100004\\_at &  261.0 &  226.2 &  365.1 &  432.0 &  447.3 &  288.1\\\\\n\t100005\\_at & 1086.2 & 1555.6 & 1487.1 & 1062.2 & 1365.9 & 1436.2\\\\\n\t100006\\_at &   49.7 &   52.9 &   15.0 &   25.8 &   48.8 &   54.8\\\\\n\\end{tabular}\n",
            "text/markdown": "\nA data.frame: 6 × 6\n\n| <!--/--> | WT1 &lt;dbl&gt; | WT2 &lt;dbl&gt; | WT3 &lt;dbl&gt; | KO1 &lt;dbl&gt; | KO2 &lt;dbl&gt; | KO3 &lt;dbl&gt; |\n|---|---|---|---|---|---|---|\n| 100001_at |   11.5 |    5.6 |   69.1 |   15.7 |   36.0 |   42.0 |\n| 100002_at |   20.5 |   32.4 |   93.3 |   31.8 |   14.4 |   22.9 |\n| 100003_at |   72.4 |   89.0 |   79.2 |   80.5 |  130.1 |   86.7 |\n| 100004_at |  261.0 |  226.2 |  365.1 |  432.0 |  447.3 |  288.1 |\n| 100005_at | 1086.2 | 1555.6 | 1487.1 | 1062.2 | 1365.9 | 1436.2 |\n| 100006_at |   49.7 |   52.9 |   15.0 |   25.8 |   48.8 |   54.8 |\n\n",
            "text/html": [
              "<table>\n",
              "<caption>A data.frame: 6 × 6</caption>\n",
              "<thead>\n",
              "\t<tr><th></th><th scope=col>WT1</th><th scope=col>WT2</th><th scope=col>WT3</th><th scope=col>KO1</th><th scope=col>KO2</th><th scope=col>KO3</th></tr>\n",
              "\t<tr><th></th><th scope=col>&lt;dbl&gt;</th><th scope=col>&lt;dbl&gt;</th><th scope=col>&lt;dbl&gt;</th><th scope=col>&lt;dbl&gt;</th><th scope=col>&lt;dbl&gt;</th><th scope=col>&lt;dbl&gt;</th></tr>\n",
              "</thead>\n",
              "<tbody>\n",
              "\t<tr><th scope=row>100001_at</th><td>  11.5</td><td>   5.6</td><td>  69.1</td><td>  15.7</td><td>  36.0</td><td>  42.0</td></tr>\n",
              "\t<tr><th scope=row>100002_at</th><td>  20.5</td><td>  32.4</td><td>  93.3</td><td>  31.8</td><td>  14.4</td><td>  22.9</td></tr>\n",
              "\t<tr><th scope=row>100003_at</th><td>  72.4</td><td>  89.0</td><td>  79.2</td><td>  80.5</td><td> 130.1</td><td>  86.7</td></tr>\n",
              "\t<tr><th scope=row>100004_at</th><td> 261.0</td><td> 226.2</td><td> 365.1</td><td> 432.0</td><td> 447.3</td><td> 288.1</td></tr>\n",
              "\t<tr><th scope=row>100005_at</th><td>1086.2</td><td>1555.6</td><td>1487.1</td><td>1062.2</td><td>1365.9</td><td>1436.2</td></tr>\n",
              "\t<tr><th scope=row>100006_at</th><td>  49.7</td><td>  52.9</td><td>  15.0</td><td>  25.8</td><td>  48.8</td><td>  54.8</td></tr>\n",
              "</tbody>\n",
              "</table>\n"
            ]
          },
          "metadata": {
            "tags": []
          }
        }
      ]
    },
    {
      "cell_type": "code",
      "metadata": {
        "id": "xYNqmpjvA_T4",
        "outputId": "9541c77a-a045-4998-bfa0-42fd12f822b3",
        "colab": {
          "base_uri": "https://localhost:8080/",
          "height": 34
        }
      },
      "source": [
        "dim(data)"
      ],
      "execution_count": 2,
      "outputs": [
        {
          "output_type": "display_data",
          "data": {
            "text/plain": [
              "[1] 12488     6"
            ],
            "text/latex": "\\begin{enumerate*}\n\\item 12488\n\\item 6\n\\end{enumerate*}\n",
            "text/markdown": "1. 12488\n2. 6\n\n\n",
            "text/html": [
              "<style>\n",
              ".list-inline {list-style: none; margin:0; padding: 0}\n",
              ".list-inline>li {display: inline-block}\n",
              ".list-inline>li:not(:last-child)::after {content: \"\\00b7\"; padding: 0 .5ex}\n",
              "</style>\n",
              "<ol class=list-inline><li>12488</li><li>6</li></ol>\n"
            ]
          },
          "metadata": {
            "tags": []
          }
        }
      ]
    },
    {
      "cell_type": "code",
      "metadata": {
        "id": "fs-jFP4RtEXD"
      },
      "source": [
        ""
      ],
      "execution_count": null,
      "outputs": []
    }
  ]
}