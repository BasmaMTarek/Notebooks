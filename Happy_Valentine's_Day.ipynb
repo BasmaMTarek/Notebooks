{
  "nbformat": 4,
  "nbformat_minor": 0,
  "metadata": {
    "kernelspec": {
      "display_name": "R",
      "language": "R",
      "name": "ir"
    },
    "language_info": {
      "codemirror_mode": "r",
      "file_extension": ".r",
      "mimetype": "text/x-r-source",
      "name": "R",
      "pygments_lexer": "r",
      "version": "3.3.1"
    },
    "colab": {
      "name": "Happy Valentine's Day",
      "provenance": [],
      "collapsed_sections": [],
      "include_colab_link": true
    }
  },
  "cells": [
    {
      "cell_type": "markdown",
      "metadata": {
        "id": "view-in-github",
        "colab_type": "text"
      },
      "source": [
        "<a href=\"https://colab.research.google.com/github/ahmedmoustafa/Notebooks/blob/master/Happy_Valentine's_Day.ipynb\" target=\"_parent\"><img src=\"https://colab.research.google.com/assets/colab-badge.svg\" alt=\"Open In Colab\"/></a>"
      ]
    },
    {
      "cell_type": "markdown",
      "metadata": {
        "id": "7G9n7ivlqpYU"
      },
      "source": [
        "# Happy Valentine's Day\n",
        "---"
      ]
    },
    {
      "cell_type": "code",
      "metadata": {
        "id": "_TiXy1LRVKCc",
        "colab": {
          "base_uri": "https://localhost:8080/",
          "height": 437
        },
        "outputId": "eb925314-2d50-46f2-e162-4f8ec69aa985"
      },
      "source": [
        "library(ggplot2)\n",
        "t = seq(0, 2*pi, by = 0.01)\n",
        "x = 16 * sin(t)^3\n",
        "y = 13 * cos(t) - 5*cos(2*t) - 2*cos(3*t) - cos(4*t)\n",
        "positions = data.frame(t, x, y, id = rep(\"x\", length(t)))\n",
        "ggplot(positions) + geom_polygon(fill = \"red\", aes(x, y, group = id))"
      ],
      "execution_count": 1,
      "outputs": [
        {
          "output_type": "display_data",
          "data": {
            "image/png": "[encoded data removed]",
            "text/plain": [
              "plot without title"
            ]
          },
          "metadata": {
            "tags": [],
            "image/png": {
              "width": 420,
              "height": 420
            }
          }
        }
      ]
    },
    {
      "cell_type": "markdown",
      "metadata": {
        "id": "NuNRsc0l_FQY"
      },
      "source": [
        "## References\n",
        "* [Weisstein, Eric W.](https://mathworld.wolfram.com/about/author.html) \"Heart Curve.\" From MathWorld--A Wolfram Web Resource. [https://mathworld.wolfram.com/HeartCurve.html](https://mathworld.wolfram.com/HeartCurve.html)\n",
        "* [Wickham H.](http://hadley.nz/) (2016). ggplot2: Elegant Graphics for Data Analysis. Springer-Verlag New York. ISBN [978-3-319-24277-4](https://link.springer.com/book/10.1007/978-3-319-24277-4), [https://ggplot2.tidyverse.org](https://ggplot2.tidyverse.org)."
      ]
    }
  ]
}