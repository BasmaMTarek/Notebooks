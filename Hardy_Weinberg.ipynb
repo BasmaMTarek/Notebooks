{
  "nbformat": 4,
  "nbformat_minor": 0,
  "metadata": {
    "kernelspec": {
      "display_name": "R",
      "language": "R",
      "name": "ir"
    },
    "language_info": {
      "codemirror_mode": "r",
      "file_extension": ".r",
      "mimetype": "text/x-r-source",
      "name": "R",
      "pygments_lexer": "r",
      "version": "3.3.1"
    },
    "colab": {
      "name": "Hardy-Weinberg",
      "provenance": [],
      "collapsed_sections": [],
      "include_colab_link": true
    }
  },
  "cells": [
    {
      "cell_type": "markdown",
      "metadata": {
        "id": "view-in-github",
        "colab_type": "text"
      },
      "source": [
        "<a href=\"https://colab.research.google.com/github/ahmedmoustafa/Notebooks/blob/master/Hardy_Weinberg.ipynb\" target=\"_parent\"><img src=\"https://colab.research.google.com/assets/colab-badge.svg\" alt=\"Open In Colab\"/></a>"
      ]
    },
    {
      "cell_type": "markdown",
      "metadata": {
        "id": "7G9n7ivlqpYU"
      },
      "source": [
        "# Hardy-Weinberg\n",
        "---"
      ]
    },
    {
      "cell_type": "markdown",
      "metadata": {
        "id": "i2WgAmRuDnq3"
      },
      "source": [
        "The following is the list of all frequencies for `A` i.e., `p`, and allele frequencies for `a`, i.e., `q` should be `1 - p`"
      ]
    },
    {
      "cell_type": "code",
      "metadata": {
        "id": "_TiXy1LRVKCc",
        "colab": {
          "base_uri": "https://localhost:8080/",
          "height": 85
        },
        "outputId": "c84b5d2b-cc43-4e56-e4c6-8ab25d0e404f"
      },
      "source": [
        "list_of_freqs = seq(1, 0, by = -0.01)\n",
        "list_of_freqs"
      ],
      "execution_count": 2,
      "outputs": [
        {
          "output_type": "display_data",
          "data": {
            "text/plain": [
              "  [1] 1.00 0.99 0.98 0.97 0.96 0.95 0.94 0.93 0.92 0.91 0.90 0.89 0.88 0.87 0.86\n",
              " [16] 0.85 0.84 0.83 0.82 0.81 0.80 0.79 0.78 0.77 0.76 0.75 0.74 0.73 0.72 0.71\n",
              " [31] 0.70 0.69 0.68 0.67 0.66 0.65 0.64 0.63 0.62 0.61 0.60 0.59 0.58 0.57 0.56\n",
              " [46] 0.55 0.54 0.53 0.52 0.51 0.50 0.49 0.48 0.47 0.46 0.45 0.44 0.43 0.42 0.41\n",
              " [61] 0.40 0.39 0.38 0.37 0.36 0.35 0.34 0.33 0.32 0.31 0.30 0.29 0.28 0.27 0.26\n",
              " [76] 0.25 0.24 0.23 0.22 0.21 0.20 0.19 0.18 0.17 0.16 0.15 0.14 0.13 0.12 0.11\n",
              " [91] 0.10 0.09 0.08 0.07 0.06 0.05 0.04 0.03 0.02 0.01 0.00"
            ],
            "text/latex": "\\begin{enumerate*}\n\\item 1\n\\item 0.99\n\\item 0.98\n\\item 0.97\n\\item 0.96\n\\item 0.95\n\\item 0.94\n\\item 0.93\n\\item 0.92\n\\item 0.91\n\\item 0.9\n\\item 0.89\n\\item 0.88\n\\item 0.87\n\\item 0.86\n\\item 0.85\n\\item 0.84\n\\item 0.83\n\\item 0.82\n\\item 0.81\n\\item 0.8\n\\item 0.79\n\\item 0.78\n\\item 0.77\n\\item 0.76\n\\item 0.75\n\\item 0.74\n\\item 0.73\n\\item 0.72\n\\item 0.71\n\\item 0.7\n\\item 0.69\n\\item 0.68\n\\item 0.67\n\\item 0.66\n\\item 0.65\n\\item 0.64\n\\item 0.63\n\\item 0.62\n\\item 0.61\n\\item 0.6\n\\item 0.59\n\\item 0.58\n\\item 0.57\n\\item 0.56\n\\item 0.55\n\\item 0.54\n\\item 0.53\n\\item 0.52\n\\item 0.51\n\\item 0.5\n\\item 0.49\n\\item 0.48\n\\item 0.47\n\\item 0.46\n\\item 0.45\n\\item 0.44\n\\item 0.43\n\\item 0.42\n\\item 0.41\n\\item 0.4\n\\item 0.39\n\\item 0.38\n\\item 0.37\n\\item 0.36\n\\item 0.35\n\\item 0.34\n\\item 0.33\n\\item 0.32\n\\item 0.31\n\\item 0.3\n\\item 0.29\n\\item 0.28\n\\item 0.27\n\\item 0.26\n\\item 0.25\n\\item 0.24\n\\item 0.23\n\\item 0.22\n\\item 0.21\n\\item 0.2\n\\item 0.19\n\\item 0.18\n\\item 0.17\n\\item 0.16\n\\item 0.15\n\\item 0.14\n\\item 0.13\n\\item 0.12\n\\item 0.11\n\\item 0.1\n\\item 0.09\n\\item 0.08\n\\item 0.07\n\\item 0.0599999999999999\n\\item 0.0499999999999999\n\\item 0.04\n\\item 0.03\n\\item 0.02\n\\item 0.01\n\\item 0\n\\end{enumerate*}\n",
            "text/markdown": "1. 1\n2. 0.99\n3. 0.98\n4. 0.97\n5. 0.96\n6. 0.95\n7. 0.94\n8. 0.93\n9. 0.92\n10. 0.91\n11. 0.9\n12. 0.89\n13. 0.88\n14. 0.87\n15. 0.86\n16. 0.85\n17. 0.84\n18. 0.83\n19. 0.82\n20. 0.81\n21. 0.8\n22. 0.79\n23. 0.78\n24. 0.77\n25. 0.76\n26. 0.75\n27. 0.74\n28. 0.73\n29. 0.72\n30. 0.71\n31. 0.7\n32. 0.69\n33. 0.68\n34. 0.67\n35. 0.66\n36. 0.65\n37. 0.64\n38. 0.63\n39. 0.62\n40. 0.61\n41. 0.6\n42. 0.59\n43. 0.58\n44. 0.57\n45. 0.56\n46. 0.55\n47. 0.54\n48. 0.53\n49. 0.52\n50. 0.51\n51. 0.5\n52. 0.49\n53. 0.48\n54. 0.47\n55. 0.46\n56. 0.45\n57. 0.44\n58. 0.43\n59. 0.42\n60. 0.41\n61. 0.4\n62. 0.39\n63. 0.38\n64. 0.37\n65. 0.36\n66. 0.35\n67. 0.34\n68. 0.33\n69. 0.32\n70. 0.31\n71. 0.3\n72. 0.29\n73. 0.28\n74. 0.27\n75. 0.26\n76. 0.25\n77. 0.24\n78. 0.23\n79. 0.22\n80. 0.21\n81. 0.2\n82. 0.19\n83. 0.18\n84. 0.17\n85. 0.16\n86. 0.15\n87. 0.14\n88. 0.13\n89. 0.12\n90. 0.11\n91. 0.1\n92. 0.09\n93. 0.08\n94. 0.07\n95. 0.0599999999999999\n96. 0.0499999999999999\n97. 0.04\n98. 0.03\n99. 0.02\n100. 0.01\n101. 0\n\n\n",
            "text/html": [
              "<style>\n",
              ".list-inline {list-style: none; margin:0; padding: 0}\n",
              ".list-inline>li {display: inline-block}\n",
              ".list-inline>li:not(:last-child)::after {content: \"\\00b7\"; padding: 0 .5ex}\n",
              "</style>\n",
              "<ol class=list-inline><li>1</li><li>0.99</li><li>0.98</li><li>0.97</li><li>0.96</li><li>0.95</li><li>0.94</li><li>0.93</li><li>0.92</li><li>0.91</li><li>0.9</li><li>0.89</li><li>0.88</li><li>0.87</li><li>0.86</li><li>0.85</li><li>0.84</li><li>0.83</li><li>0.82</li><li>0.81</li><li>0.8</li><li>0.79</li><li>0.78</li><li>0.77</li><li>0.76</li><li>0.75</li><li>0.74</li><li>0.73</li><li>0.72</li><li>0.71</li><li>0.7</li><li>0.69</li><li>0.68</li><li>0.67</li><li>0.66</li><li>0.65</li><li>0.64</li><li>0.63</li><li>0.62</li><li>0.61</li><li>0.6</li><li>0.59</li><li>0.58</li><li>0.57</li><li>0.56</li><li>0.55</li><li>0.54</li><li>0.53</li><li>0.52</li><li>0.51</li><li>0.5</li><li>0.49</li><li>0.48</li><li>0.47</li><li>0.46</li><li>0.45</li><li>0.44</li><li>0.43</li><li>0.42</li><li>0.41</li><li>0.4</li><li>0.39</li><li>0.38</li><li>0.37</li><li>0.36</li><li>0.35</li><li>0.34</li><li>0.33</li><li>0.32</li><li>0.31</li><li>0.3</li><li>0.29</li><li>0.28</li><li>0.27</li><li>0.26</li><li>0.25</li><li>0.24</li><li>0.23</li><li>0.22</li><li>0.21</li><li>0.2</li><li>0.19</li><li>0.18</li><li>0.17</li><li>0.16</li><li>0.15</li><li>0.14</li><li>0.13</li><li>0.12</li><li>0.11</li><li>0.1</li><li>0.09</li><li>0.08</li><li>0.07</li><li>0.0599999999999999</li><li>0.0499999999999999</li><li>0.04</li><li>0.03</li><li>0.02</li><li>0.01</li><li>0</li></ol>\n"
            ]
          },
          "metadata": {
            "tags": []
          }
        }
      ]
    },
    {
      "cell_type": "code",
      "metadata": {
        "id": "1jEz8SRhVMK6"
      },
      "source": [
        "#"
      ],
      "execution_count": null,
      "outputs": []
    }
  ]
}