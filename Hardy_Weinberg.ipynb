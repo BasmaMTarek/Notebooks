{
  "nbformat": 4,
  "nbformat_minor": 0,
  "metadata": {
    "kernelspec": {
      "display_name": "R",
      "language": "R",
      "name": "ir"
    },
    "language_info": {
      "codemirror_mode": "r",
      "file_extension": ".r",
      "mimetype": "text/x-r-source",
      "name": "R",
      "pygments_lexer": "r",
      "version": "3.3.1"
    },
    "colab": {
      "name": "Hardy-Weinberg",
      "provenance": [],
      "collapsed_sections": [],
      "include_colab_link": true
    }
  },
  "cells": [
    {
      "cell_type": "markdown",
      "metadata": {
        "id": "view-in-github",
        "colab_type": "text"
      },
      "source": [
        "<a href=\"https://colab.research.google.com/github/ahmedmoustafa/Notebooks/blob/master/Hardy_Weinberg.ipynb\" target=\"_parent\"><img src=\"https://colab.research.google.com/assets/colab-badge.svg\" alt=\"Open In Colab\"/></a>"
      ]
    },
    {
      "cell_type": "markdown",
      "metadata": {
        "id": "7G9n7ivlqpYU"
      },
      "source": [
        "# Hardy-Weinberg\n",
        "---"
      ]
    },
    {
      "cell_type": "markdown",
      "metadata": {
        "id": "3Od8zcobSBU5"
      },
      "source": [
        "For the gene of interest, there are two alleles, `A` and `a`."
      ]
    },
    {
      "cell_type": "code",
      "metadata": {
        "colab": {
          "base_uri": "https://localhost:8080/",
          "height": 34
        },
        "id": "b-uKzM0XbQVD",
        "outputId": "93294f0e-cc34-49fa-c458-03c0379885fa"
      },
      "source": [
        "p = 0.7\n",
        "q = 1 - p\n",
        "q"
      ],
      "execution_count": 1,
      "outputs": [
        {
          "output_type": "display_data",
          "data": {
            "text/plain": [
              "[1] 0.3"
            ],
            "text/latex": "0.3",
            "text/markdown": "0.3",
            "text/html": [
              "0.3"
            ]
          },
          "metadata": {
            "tags": []
          }
        }
      ]
    },
    {
      "cell_type": "code",
      "metadata": {
        "id": "HKsnvnAPbUDY"
      },
      "source": [
        "n = 1000 # Population size"
      ],
      "execution_count": 2,
      "outputs": []
    },
    {
      "cell_type": "code",
      "metadata": {
        "colab": {
          "base_uri": "https://localhost:8080/",
          "height": 51
        },
        "id": "9o7ILJQUR66A",
        "outputId": "985f3717-e6cc-4636-9fb7-b5e2eb46bf6f"
      },
      "source": [
        "A = rep(\"A\", 2* n * p)\n",
        "head(A)\n",
        "length(A)"
      ],
      "execution_count": 3,
      "outputs": [
        {
          "output_type": "display_data",
          "data": {
            "text/plain": [
              "[1] \"A\" \"A\" \"A\" \"A\" \"A\" \"A\""
            ],
            "text/latex": "\\begin{enumerate*}\n\\item 'A'\n\\item 'A'\n\\item 'A'\n\\item 'A'\n\\item 'A'\n\\item 'A'\n\\end{enumerate*}\n",
            "text/markdown": "1. 'A'\n2. 'A'\n3. 'A'\n4. 'A'\n5. 'A'\n6. 'A'\n\n\n",
            "text/html": [
              "<style>\n",
              ".list-inline {list-style: none; margin:0; padding: 0}\n",
              ".list-inline>li {display: inline-block}\n",
              ".list-inline>li:not(:last-child)::after {content: \"\\00b7\"; padding: 0 .5ex}\n",
              "</style>\n",
              "<ol class=list-inline><li>'A'</li><li>'A'</li><li>'A'</li><li>'A'</li><li>'A'</li><li>'A'</li></ol>\n"
            ]
          },
          "metadata": {
            "tags": []
          }
        },
        {
          "output_type": "display_data",
          "data": {
            "text/plain": [
              "[1] 1400"
            ],
            "text/latex": "1400",
            "text/markdown": "1400",
            "text/html": [
              "1400"
            ]
          },
          "metadata": {
            "tags": []
          }
        }
      ]
    },
    {
      "cell_type": "code",
      "metadata": {
        "colab": {
          "base_uri": "https://localhost:8080/",
          "height": 51
        },
        "id": "eH9K-dtQbwvz",
        "outputId": "f77ec94c-0c44-4d15-df00-96c1ba0dff15"
      },
      "source": [
        "a = rep(\"a\", 2* n * q)\n",
        "head(a)\n",
        "length(a)"
      ],
      "execution_count": 4,
      "outputs": [
        {
          "output_type": "display_data",
          "data": {
            "text/plain": [
              "[1] \"a\" \"a\" \"a\" \"a\" \"a\" \"a\""
            ],
            "text/latex": "\\begin{enumerate*}\n\\item 'a'\n\\item 'a'\n\\item 'a'\n\\item 'a'\n\\item 'a'\n\\item 'a'\n\\end{enumerate*}\n",
            "text/markdown": "1. 'a'\n2. 'a'\n3. 'a'\n4. 'a'\n5. 'a'\n6. 'a'\n\n\n",
            "text/html": [
              "<style>\n",
              ".list-inline {list-style: none; margin:0; padding: 0}\n",
              ".list-inline>li {display: inline-block}\n",
              ".list-inline>li:not(:last-child)::after {content: \"\\00b7\"; padding: 0 .5ex}\n",
              "</style>\n",
              "<ol class=list-inline><li>'a'</li><li>'a'</li><li>'a'</li><li>'a'</li><li>'a'</li><li>'a'</li></ol>\n"
            ]
          },
          "metadata": {
            "tags": []
          }
        },
        {
          "output_type": "display_data",
          "data": {
            "text/plain": [
              "[1] 600"
            ],
            "text/latex": "600",
            "text/markdown": "600",
            "text/html": [
              "600"
            ]
          },
          "metadata": {
            "tags": []
          }
        }
      ]
    },
    {
      "cell_type": "code",
      "metadata": {
        "colab": {
          "base_uri": "https://localhost:8080/",
          "height": 34
        },
        "id": "xe33WqYpb3N5",
        "outputId": "823f0586-588b-44e5-ff6b-1d22c77cb08d"
      },
      "source": [
        "pop = c(A, a)\n",
        "length(pop)"
      ],
      "execution_count": 5,
      "outputs": [
        {
          "output_type": "display_data",
          "data": {
            "text/plain": [
              "[1] 2000"
            ],
            "text/latex": "2000",
            "text/markdown": "2000",
            "text/html": [
              "2000"
            ]
          },
          "metadata": {
            "tags": []
          }
        }
      ]
    },
    {
      "cell_type": "code",
      "metadata": {
        "colab": {
          "base_uri": "https://localhost:8080/",
          "height": 51
        },
        "id": "MbZIz5wRcfr_",
        "outputId": "a0c642bf-f17d-4b22-9ee1-54c1e1a9d8e1"
      },
      "source": [
        "z = sample(pop, 2, replace = FALSE)\n",
        "z[1]\n",
        "z[2]"
      ],
      "execution_count": 6,
      "outputs": [
        {
          "output_type": "display_data",
          "data": {
            "text/plain": [
              "[1] \"a\""
            ],
            "text/latex": "'a'",
            "text/markdown": "'a'",
            "text/html": [
              "'a'"
            ]
          },
          "metadata": {
            "tags": []
          }
        },
        {
          "output_type": "display_data",
          "data": {
            "text/plain": [
              "[1] \"A\""
            ],
            "text/latex": "'A'",
            "text/markdown": "'A'",
            "text/html": [
              "'A'"
            ]
          },
          "metadata": {
            "tags": []
          }
        }
      ]
    },
    {
      "cell_type": "code",
      "metadata": {
        "id": "yu6371j0SnHd"
      },
      "source": [
        "AA_count = 0\n",
        "Aa_count = 0\n",
        "aa_count = 0"
      ],
      "execution_count": 7,
      "outputs": []
    },
    {
      "cell_type": "code",
      "metadata": {
        "id": "lGtwfSjudM2_"
      },
      "source": [
        "if (z[1] == \"A\" & z[2] == \"A\") {\n",
        "  AA_count = AA_count + 1\n",
        "}"
      ],
      "execution_count": 8,
      "outputs": []
    },
    {
      "cell_type": "code",
      "metadata": {
        "colab": {
          "base_uri": "https://localhost:8080/",
          "height": 34
        },
        "id": "TmWHRKleSxzX",
        "outputId": "f1148bc9-ee56-4386-ee16-3cfd40b28116"
      },
      "source": [
        "AA_count"
      ],
      "execution_count": 9,
      "outputs": [
        {
          "output_type": "display_data",
          "data": {
            "text/plain": [
              "[1] 0"
            ],
            "text/latex": "0",
            "text/markdown": "0",
            "text/html": [
              "0"
            ]
          },
          "metadata": {
            "tags": []
          }
        }
      ]
    }
  ]
}