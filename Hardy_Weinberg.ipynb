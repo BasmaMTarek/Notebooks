{
  "nbformat": 4,
  "nbformat_minor": 0,
  "metadata": {
    "kernelspec": {
      "display_name": "R",
      "language": "R",
      "name": "ir"
    },
    "language_info": {
      "codemirror_mode": "r",
      "file_extension": ".r",
      "mimetype": "text/x-r-source",
      "name": "R",
      "pygments_lexer": "r",
      "version": "3.3.1"
    },
    "colab": {
      "name": "Hardy-Weinberg",
      "provenance": [],
      "collapsed_sections": [],
      "include_colab_link": true
    }
  },
  "cells": [
    {
      "cell_type": "markdown",
      "metadata": {
        "id": "view-in-github",
        "colab_type": "text"
      },
      "source": [
        "<a href=\"https://colab.research.google.com/github/ahmedmoustafa/Notebooks/blob/master/Hardy_Weinberg.ipynb\" target=\"_parent\"><img src=\"https://colab.research.google.com/assets/colab-badge.svg\" alt=\"Open In Colab\"/></a>"
      ]
    },
    {
      "cell_type": "markdown",
      "metadata": {
        "id": "7G9n7ivlqpYU"
      },
      "source": [
        "# Hardy-Weinberg\n",
        "---"
      ]
    },
    {
      "cell_type": "markdown",
      "metadata": {
        "id": "i2WgAmRuDnq3"
      },
      "source": [
        "The following is the list of all frequencies for `A` i.e., `p`, and allele frequencies for `a`, i.e., `q` should be `1 - p`"
      ]
    },
    {
      "cell_type": "code",
      "metadata": {
        "id": "_TiXy1LRVKCc",
        "colab": {
          "base_uri": "https://localhost:8080/",
          "height": 34
        },
        "outputId": "3d3b62ea-8b74-4b34-983d-a7d39a4d5ed7"
      },
      "source": [
        "list_of_freqs = seq(1, 0, by = -0.01)\n",
        "length(list_of_freqs)"
      ],
      "execution_count": 1,
      "outputs": [
        {
          "output_type": "display_data",
          "data": {
            "text/plain": [
              "[1] 101"
            ],
            "text/latex": "101",
            "text/markdown": "101",
            "text/html": [
              "101"
            ]
          },
          "metadata": {
            "tags": []
          }
        }
      ]
    },
    {
      "cell_type": "code",
      "metadata": {
        "id": "1jEz8SRhVMK6",
        "colab": {
          "base_uri": "https://localhost:8080/",
          "height": 34
        },
        "outputId": "3bdf9ef5-d925-4289-d779-eb1fae17ffd7"
      },
      "source": [
        "head(list_of_freqs)"
      ],
      "execution_count": 2,
      "outputs": [
        {
          "output_type": "display_data",
          "data": {
            "text/plain": [
              "[1] 1.00 0.99 0.98 0.97 0.96 0.95"
            ],
            "text/latex": "\\begin{enumerate*}\n\\item 1\n\\item 0.99\n\\item 0.98\n\\item 0.97\n\\item 0.96\n\\item 0.95\n\\end{enumerate*}\n",
            "text/markdown": "1. 1\n2. 0.99\n3. 0.98\n4. 0.97\n5. 0.96\n6. 0.95\n\n\n",
            "text/html": [
              "<style>\n",
              ".list-inline {list-style: none; margin:0; padding: 0}\n",
              ".list-inline>li {display: inline-block}\n",
              ".list-inline>li:not(:last-child)::after {content: \"\\00b7\"; padding: 0 .5ex}\n",
              "</style>\n",
              "<ol class=list-inline><li>1</li><li>0.99</li><li>0.98</li><li>0.97</li><li>0.96</li><li>0.95</li></ol>\n"
            ]
          },
          "metadata": {
            "tags": []
          }
        }
      ]
    },
    {
      "cell_type": "code",
      "metadata": {
        "colab": {
          "base_uri": "https://localhost:8080/",
          "height": 34
        },
        "id": "xLuBq4hdFLwq",
        "outputId": "e95ed931-243d-464e-8be9-1c582ea05143"
      },
      "source": [
        "tail(list_of_freqs)"
      ],
      "execution_count": 3,
      "outputs": [
        {
          "output_type": "display_data",
          "data": {
            "text/plain": [
              "[1] 0.05 0.04 0.03 0.02 0.01 0.00"
            ],
            "text/latex": "\\begin{enumerate*}\n\\item 0.0499999999999999\n\\item 0.04\n\\item 0.03\n\\item 0.02\n\\item 0.01\n\\item 0\n\\end{enumerate*}\n",
            "text/markdown": "1. 0.0499999999999999\n2. 0.04\n3. 0.03\n4. 0.02\n5. 0.01\n6. 0\n\n\n",
            "text/html": [
              "<style>\n",
              ".list-inline {list-style: none; margin:0; padding: 0}\n",
              ".list-inline>li {display: inline-block}\n",
              ".list-inline>li:not(:last-child)::after {content: \"\\00b7\"; padding: 0 .5ex}\n",
              "</style>\n",
              "<ol class=list-inline><li>0.0499999999999999</li><li>0.04</li><li>0.03</li><li>0.02</li><li>0.01</li><li>0</li></ol>\n"
            ]
          },
          "metadata": {
            "tags": []
          }
        }
      ]
    },
    {
      "cell_type": "code",
      "metadata": {
        "id": "YyhM2c0OFPh6"
      },
      "source": [
        ""
      ],
      "execution_count": 4,
      "outputs": []
    }
  ]
}