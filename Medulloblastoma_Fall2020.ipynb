{
  "nbformat": 4,
  "nbformat_minor": 0,
  "metadata": {
    "kernelspec": {
      "display_name": "R",
      "language": "R",
      "name": "ir"
    },
    "language_info": {
      "codemirror_mode": "r",
      "file_extension": ".r",
      "mimetype": "text/x-r-source",
      "name": "R",
      "pygments_lexer": "r",
      "version": "3.3.1"
    },
    "colab": {
      "name": "Medulloblastoma Fall2020",
      "provenance": [],
      "collapsed_sections": [],
      "include_colab_link": true
    }
  },
  "cells": [
    {
      "cell_type": "markdown",
      "metadata": {
        "id": "view-in-github",
        "colab_type": "text"
      },
      "source": [
        "<a href=\"https://colab.research.google.com/github/ahmedmoustafa/Notebooks/blob/master/Medulloblastoma_Fall2020.ipynb\" target=\"_parent\"><img src=\"https://colab.research.google.com/assets/colab-badge.svg\" alt=\"Open In Colab\"/></a>"
      ]
    },
    {
      "cell_type": "markdown",
      "metadata": {
        "id": "7G9n7ivlqpYU"
      },
      "source": [
        "# Medulloblastoma\n",
        "---\n",
        "\n",
        "Dataset: GSE37418"
      ]
    },
    {
      "cell_type": "code",
      "metadata": {
        "id": "_TiXy1LRVKCc",
        "colab": {
          "base_uri": "https://localhost:8080/",
          "height": 224
        },
        "outputId": "3599dd52-ef28-4282-d628-9e59eede53e2"
      },
      "source": [
        "data = read.table (\"https://raw.githubusercontent.com/ahmedmoustafa/Notebooks/master/data/GSE37418.tsv\", row.names = 1, header = TRUE)\n",
        "head(data)"
      ],
      "execution_count": 16,
      "outputs": [
        {
          "output_type": "display_data",
          "data": {
            "text/plain": [
              "          G3_1     G3_2     G3_3     G3_4     G3_5     G3_6     G3_7    \n",
              "1007_s_at 7.792349 8.260027 7.560757 6.719979 7.536524 6.942350 7.408894\n",
              "1053_at   6.579529 7.080868 6.795929 7.313420 6.337003 6.025624 6.564560\n",
              "117_at    4.907495 5.773620 5.183467 4.417635 3.508556 4.530447 5.073297\n",
              "121_at    6.212406 6.282827 5.378514 5.666773 5.862210 5.369708 5.897429\n",
              "1255_g_at 3.152736 3.404525 5.078294 3.921973 6.176075 4.332048 5.868732\n",
              "1294_at   5.472691 6.110802 4.989071 5.109575 4.703204 5.046646 5.066385\n",
              "          G3_8     G3_9     G3_10    ⋯ SHH_9    SHH_10   WNT_1    WNT_2   \n",
              "1007_s_at 6.756235 7.332892 7.128977 ⋯ 7.466914 7.750744 7.600802 7.725507\n",
              "1053_at   6.335409 6.642747 6.012002 ⋯ 6.058188 6.541607 5.974064 6.624198\n",
              "117_at    3.992681 6.098074 4.794964 ⋯ 4.563306 4.163559 5.362700 4.853591\n",
              "121_at    5.580861 6.110358 5.918625 ⋯ 5.993961 6.115450 5.785977 5.922650\n",
              "1255_g_at 5.468060 4.483003 6.736730 ⋯ 4.599152 4.044804 3.328627 3.779634\n",
              "1294_at   5.382199 5.416989 4.933034 ⋯ 5.822750 5.554121 6.133398 4.886583\n",
              "          WNT_3    WNT_4    WNT_5    WNT_6    WNT_7    WNT_8   \n",
              "1007_s_at 6.760878 7.165107 6.799502 7.647977 6.919091 6.641443\n",
              "1053_at   6.735305 6.163946 6.448573 6.202940 6.602316 6.553648\n",
              "117_at    4.325456 5.057519 3.610918 4.461300 4.130355 4.306764\n",
              "121_at    5.800607 5.441985 5.772686 5.318610 5.808143 5.411200\n",
              "1255_g_at 3.214868 4.301359 3.713572 3.218876 3.716008 5.013963\n",
              "1294_at   5.068904 4.864453 5.165357 5.551796 4.950177 4.668145"
            ],
            "text/latex": "A data.frame: 6 × 73\n\\begin{tabular}{r|lllllllllllllllllllll}\n  & G3\\_1 & G3\\_2 & G3\\_3 & G3\\_4 & G3\\_5 & G3\\_6 & G3\\_7 & G3\\_8 & G3\\_9 & G3\\_10 & ⋯ & SHH\\_9 & SHH\\_10 & WNT\\_1 & WNT\\_2 & WNT\\_3 & WNT\\_4 & WNT\\_5 & WNT\\_6 & WNT\\_7 & WNT\\_8\\\\\n  & <dbl> & <dbl> & <dbl> & <dbl> & <dbl> & <dbl> & <dbl> & <dbl> & <dbl> & <dbl> & ⋯ & <dbl> & <dbl> & <dbl> & <dbl> & <dbl> & <dbl> & <dbl> & <dbl> & <dbl> & <dbl>\\\\\n\\hline\n\t1007\\_s\\_at & 7.792349 & 8.260027 & 7.560757 & 6.719979 & 7.536524 & 6.942350 & 7.408894 & 6.756235 & 7.332892 & 7.128977 & ⋯ & 7.466914 & 7.750744 & 7.600802 & 7.725507 & 6.760878 & 7.165107 & 6.799502 & 7.647977 & 6.919091 & 6.641443\\\\\n\t1053\\_at & 6.579529 & 7.080868 & 6.795929 & 7.313420 & 6.337003 & 6.025624 & 6.564560 & 6.335409 & 6.642747 & 6.012002 & ⋯ & 6.058188 & 6.541607 & 5.974064 & 6.624198 & 6.735305 & 6.163946 & 6.448573 & 6.202940 & 6.602316 & 6.553648\\\\\n\t117\\_at & 4.907495 & 5.773620 & 5.183467 & 4.417635 & 3.508556 & 4.530447 & 5.073297 & 3.992681 & 6.098074 & 4.794964 & ⋯ & 4.563306 & 4.163559 & 5.362700 & 4.853591 & 4.325456 & 5.057519 & 3.610918 & 4.461300 & 4.130355 & 4.306764\\\\\n\t121\\_at & 6.212406 & 6.282827 & 5.378514 & 5.666773 & 5.862210 & 5.369708 & 5.897429 & 5.580861 & 6.110358 & 5.918625 & ⋯ & 5.993961 & 6.115450 & 5.785977 & 5.922650 & 5.800607 & 5.441985 & 5.772686 & 5.318610 & 5.808143 & 5.411200\\\\\n\t1255\\_g\\_at & 3.152736 & 3.404525 & 5.078294 & 3.921973 & 6.176075 & 4.332048 & 5.868732 & 5.468060 & 4.483003 & 6.736730 & ⋯ & 4.599152 & 4.044804 & 3.328627 & 3.779634 & 3.214868 & 4.301359 & 3.713572 & 3.218876 & 3.716008 & 5.013963\\\\\n\t1294\\_at & 5.472691 & 6.110802 & 4.989071 & 5.109575 & 4.703204 & 5.046646 & 5.066385 & 5.382199 & 5.416989 & 4.933034 & ⋯ & 5.822750 & 5.554121 & 6.133398 & 4.886583 & 5.068904 & 4.864453 & 5.165357 & 5.551796 & 4.950177 & 4.668145\\\\\n\\end{tabular}\n",
            "text/markdown": "\nA data.frame: 6 × 73\n\n| <!--/--> | G3_1 &lt;dbl&gt; | G3_2 &lt;dbl&gt; | G3_3 &lt;dbl&gt; | G3_4 &lt;dbl&gt; | G3_5 &lt;dbl&gt; | G3_6 &lt;dbl&gt; | G3_7 &lt;dbl&gt; | G3_8 &lt;dbl&gt; | G3_9 &lt;dbl&gt; | G3_10 &lt;dbl&gt; | ⋯ ⋯ | SHH_9 &lt;dbl&gt; | SHH_10 &lt;dbl&gt; | WNT_1 &lt;dbl&gt; | WNT_2 &lt;dbl&gt; | WNT_3 &lt;dbl&gt; | WNT_4 &lt;dbl&gt; | WNT_5 &lt;dbl&gt; | WNT_6 &lt;dbl&gt; | WNT_7 &lt;dbl&gt; | WNT_8 &lt;dbl&gt; |\n|---|---|---|---|---|---|---|---|---|---|---|---|---|---|---|---|---|---|---|---|---|---|\n| 1007_s_at | 7.792349 | 8.260027 | 7.560757 | 6.719979 | 7.536524 | 6.942350 | 7.408894 | 6.756235 | 7.332892 | 7.128977 | ⋯ | 7.466914 | 7.750744 | 7.600802 | 7.725507 | 6.760878 | 7.165107 | 6.799502 | 7.647977 | 6.919091 | 6.641443 |\n| 1053_at | 6.579529 | 7.080868 | 6.795929 | 7.313420 | 6.337003 | 6.025624 | 6.564560 | 6.335409 | 6.642747 | 6.012002 | ⋯ | 6.058188 | 6.541607 | 5.974064 | 6.624198 | 6.735305 | 6.163946 | 6.448573 | 6.202940 | 6.602316 | 6.553648 |\n| 117_at | 4.907495 | 5.773620 | 5.183467 | 4.417635 | 3.508556 | 4.530447 | 5.073297 | 3.992681 | 6.098074 | 4.794964 | ⋯ | 4.563306 | 4.163559 | 5.362700 | 4.853591 | 4.325456 | 5.057519 | 3.610918 | 4.461300 | 4.130355 | 4.306764 |\n| 121_at | 6.212406 | 6.282827 | 5.378514 | 5.666773 | 5.862210 | 5.369708 | 5.897429 | 5.580861 | 6.110358 | 5.918625 | ⋯ | 5.993961 | 6.115450 | 5.785977 | 5.922650 | 5.800607 | 5.441985 | 5.772686 | 5.318610 | 5.808143 | 5.411200 |\n| 1255_g_at | 3.152736 | 3.404525 | 5.078294 | 3.921973 | 6.176075 | 4.332048 | 5.868732 | 5.468060 | 4.483003 | 6.736730 | ⋯ | 4.599152 | 4.044804 | 3.328627 | 3.779634 | 3.214868 | 4.301359 | 3.713572 | 3.218876 | 3.716008 | 5.013963 |\n| 1294_at | 5.472691 | 6.110802 | 4.989071 | 5.109575 | 4.703204 | 5.046646 | 5.066385 | 5.382199 | 5.416989 | 4.933034 | ⋯ | 5.822750 | 5.554121 | 6.133398 | 4.886583 | 5.068904 | 4.864453 | 5.165357 | 5.551796 | 4.950177 | 4.668145 |\n\n",
            "text/html": [
              "<table>\n",
              "<caption>A data.frame: 6 × 73</caption>\n",
              "<thead>\n",
              "\t<tr><th></th><th scope=col>G3_1</th><th scope=col>G3_2</th><th scope=col>G3_3</th><th scope=col>G3_4</th><th scope=col>G3_5</th><th scope=col>G3_6</th><th scope=col>G3_7</th><th scope=col>G3_8</th><th scope=col>G3_9</th><th scope=col>G3_10</th><th scope=col>⋯</th><th scope=col>SHH_9</th><th scope=col>SHH_10</th><th scope=col>WNT_1</th><th scope=col>WNT_2</th><th scope=col>WNT_3</th><th scope=col>WNT_4</th><th scope=col>WNT_5</th><th scope=col>WNT_6</th><th scope=col>WNT_7</th><th scope=col>WNT_8</th></tr>\n",
              "\t<tr><th></th><th scope=col>&lt;dbl&gt;</th><th scope=col>&lt;dbl&gt;</th><th scope=col>&lt;dbl&gt;</th><th scope=col>&lt;dbl&gt;</th><th scope=col>&lt;dbl&gt;</th><th scope=col>&lt;dbl&gt;</th><th scope=col>&lt;dbl&gt;</th><th scope=col>&lt;dbl&gt;</th><th scope=col>&lt;dbl&gt;</th><th scope=col>&lt;dbl&gt;</th><th scope=col>⋯</th><th scope=col>&lt;dbl&gt;</th><th scope=col>&lt;dbl&gt;</th><th scope=col>&lt;dbl&gt;</th><th scope=col>&lt;dbl&gt;</th><th scope=col>&lt;dbl&gt;</th><th scope=col>&lt;dbl&gt;</th><th scope=col>&lt;dbl&gt;</th><th scope=col>&lt;dbl&gt;</th><th scope=col>&lt;dbl&gt;</th><th scope=col>&lt;dbl&gt;</th></tr>\n",
              "</thead>\n",
              "<tbody>\n",
              "\t<tr><th scope=row>1007_s_at</th><td>7.792349</td><td>8.260027</td><td>7.560757</td><td>6.719979</td><td>7.536524</td><td>6.942350</td><td>7.408894</td><td>6.756235</td><td>7.332892</td><td>7.128977</td><td>⋯</td><td>7.466914</td><td>7.750744</td><td>7.600802</td><td>7.725507</td><td>6.760878</td><td>7.165107</td><td>6.799502</td><td>7.647977</td><td>6.919091</td><td>6.641443</td></tr>\n",
              "\t<tr><th scope=row>1053_at</th><td>6.579529</td><td>7.080868</td><td>6.795929</td><td>7.313420</td><td>6.337003</td><td>6.025624</td><td>6.564560</td><td>6.335409</td><td>6.642747</td><td>6.012002</td><td>⋯</td><td>6.058188</td><td>6.541607</td><td>5.974064</td><td>6.624198</td><td>6.735305</td><td>6.163946</td><td>6.448573</td><td>6.202940</td><td>6.602316</td><td>6.553648</td></tr>\n",
              "\t<tr><th scope=row>117_at</th><td>4.907495</td><td>5.773620</td><td>5.183467</td><td>4.417635</td><td>3.508556</td><td>4.530447</td><td>5.073297</td><td>3.992681</td><td>6.098074</td><td>4.794964</td><td>⋯</td><td>4.563306</td><td>4.163559</td><td>5.362700</td><td>4.853591</td><td>4.325456</td><td>5.057519</td><td>3.610918</td><td>4.461300</td><td>4.130355</td><td>4.306764</td></tr>\n",
              "\t<tr><th scope=row>121_at</th><td>6.212406</td><td>6.282827</td><td>5.378514</td><td>5.666773</td><td>5.862210</td><td>5.369708</td><td>5.897429</td><td>5.580861</td><td>6.110358</td><td>5.918625</td><td>⋯</td><td>5.993961</td><td>6.115450</td><td>5.785977</td><td>5.922650</td><td>5.800607</td><td>5.441985</td><td>5.772686</td><td>5.318610</td><td>5.808143</td><td>5.411200</td></tr>\n",
              "\t<tr><th scope=row>1255_g_at</th><td>3.152736</td><td>3.404525</td><td>5.078294</td><td>3.921973</td><td>6.176075</td><td>4.332048</td><td>5.868732</td><td>5.468060</td><td>4.483003</td><td>6.736730</td><td>⋯</td><td>4.599152</td><td>4.044804</td><td>3.328627</td><td>3.779634</td><td>3.214868</td><td>4.301359</td><td>3.713572</td><td>3.218876</td><td>3.716008</td><td>5.013963</td></tr>\n",
              "\t<tr><th scope=row>1294_at</th><td>5.472691</td><td>6.110802</td><td>4.989071</td><td>5.109575</td><td>4.703204</td><td>5.046646</td><td>5.066385</td><td>5.382199</td><td>5.416989</td><td>4.933034</td><td>⋯</td><td>5.822750</td><td>5.554121</td><td>6.133398</td><td>4.886583</td><td>5.068904</td><td>4.864453</td><td>5.165357</td><td>5.551796</td><td>4.950177</td><td>4.668145</td></tr>\n",
              "</tbody>\n",
              "</table>\n"
            ]
          },
          "metadata": {
            "tags": []
          }
        }
      ]
    },
    {
      "cell_type": "code",
      "metadata": {
        "colab": {
          "base_uri": "https://localhost:8080/",
          "height": 34
        },
        "id": "pH515F81Zokn",
        "outputId": "3e6097d6-d38f-4461-fe0a-fe6da4383b83"
      },
      "source": [
        "dim(data)"
      ],
      "execution_count": 17,
      "outputs": [
        {
          "output_type": "display_data",
          "data": {
            "text/plain": [
              "[1] 54675    73"
            ],
            "text/latex": "\\begin{enumerate*}\n\\item 54675\n\\item 73\n\\end{enumerate*}\n",
            "text/markdown": "1. 54675\n2. 73\n\n\n",
            "text/html": [
              "<style>\n",
              ".list-inline {list-style: none; margin:0; padding: 0}\n",
              ".list-inline>li {display: inline-block}\n",
              ".list-inline>li:not(:last-child)::after {content: \"\\00b7\"; padding: 0 .5ex}\n",
              "</style>\n",
              "<ol class=list-inline><li>54675</li><li>73</li></ol>\n"
            ]
          },
          "metadata": {
            "tags": []
          }
        }
      ]
    },
    {
      "cell_type": "code",
      "metadata": {
        "id": "fKUq6U5jZpW4"
      },
      "source": [
        ""
      ],
      "execution_count": null,
      "outputs": []
    }
  ]
}