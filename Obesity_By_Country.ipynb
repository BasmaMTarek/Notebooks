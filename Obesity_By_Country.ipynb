{
  "nbformat": 4,
  "nbformat_minor": 0,
  "metadata": {
    "kernelspec": {
      "display_name": "R",
      "language": "R",
      "name": "ir"
    },
    "language_info": {
      "codemirror_mode": "r",
      "file_extension": ".r",
      "mimetype": "text/x-r-source",
      "name": "R",
      "pygments_lexer": "r",
      "version": "3.3.1"
    },
    "colab": {
      "name": "Obesity By Country",
      "provenance": [],
      "collapsed_sections": [],
      "include_colab_link": true
    }
  },
  "cells": [
    {
      "cell_type": "markdown",
      "metadata": {
        "id": "view-in-github",
        "colab_type": "text"
      },
      "source": [
        "<a href=\"https://colab.research.google.com/github/ahmedmoustafa/Notebooks/blob/master/Obesity_By_Country.ipynb\" target=\"_parent\"><img src=\"https://colab.research.google.com/assets/colab-badge.svg\" alt=\"Open In Colab\"/></a>"
      ]
    },
    {
      "cell_type": "markdown",
      "metadata": {
        "id": "7G9n7ivlqpYU"
      },
      "source": [
        "# Obesity By Country\n",
        "---"
      ]
    },
    {
      "cell_type": "markdown",
      "metadata": {
        "id": "RBd5wrAoXWDI"
      },
      "source": [
        "![Overweight Adults](https://media.gettyimages.com/vectors/overweight-people-silhouettes-vector-id1124865328?s=2048x2048)\n",
        "\n",
        "This [dataset](https://github.com/ahmedmoustafa/Notebooks/blob/master/data/WHO_Obesity_By_Country_2016.csv) contains the prevalence of obesity among adults (male, female, and combined) by country in 2016 from the World Health Organization's Global Health Observatory data repository risk factor Overweight/Obesity. Overweight here is defined as a body-mass index (BMI) ≥ 25."
      ]
    },
    {
      "cell_type": "markdown",
      "metadata": {
        "id": "YDIcRUqla51k"
      },
      "source": [
        "**Q1**. How many rows and columns are in the dataset?"
      ]
    },
    {
      "cell_type": "markdown",
      "metadata": {
        "id": "3LYI1NX7bMCS"
      },
      "source": [
        "**Q2**. What are the estimates in Egypt?"
      ]
    },
    {
      "cell_type": "markdown",
      "metadata": {
        "id": "0dJgQwnabQUC"
      },
      "source": [
        "**Q3**. What is the median prevalence of overweight males in each continent?"
      ]
    },
    {
      "cell_type": "markdown",
      "metadata": {
        "id": "R-4Z0tqHbqW3"
      },
      "source": [
        "**Q4**. Which countries do have the prevalence of overweight males higher than overweight females?"
      ]
    },
    {
      "cell_type": "markdown",
      "metadata": {
        "id": "I-nkmSH3b_nQ"
      },
      "source": [
        "**Q5**. Which countries do have the prevalence of overweight females higher than overweight males?"
      ]
    },
    {
      "cell_type": "markdown",
      "metadata": {
        "id": "F0lnK1pKcEEj"
      },
      "source": [
        "**Extra**: are the males and females percentages correlated? *Hint*: you can use the R function [`cor`](https://www.rdocumentation.org/packages/stats/versions/3.6.2/topics/cor) for [correlation](https://en.wikipedia.org/wiki/Pearson_correlation_coefficient)?"
      ]
    },
    {
      "cell_type": "markdown",
      "metadata": {
        "id": "cLoFAwwOkr2m"
      },
      "source": [
        "---"
      ]
    },
    {
      "cell_type": "markdown",
      "metadata": {
        "id": "sM7mjIYKj9BX"
      },
      "source": [
        "To start, the data can be loaded using the following code:"
      ]
    },
    {
      "cell_type": "code",
      "metadata": {
        "id": "qthhe4mEj8PF",
        "outputId": "b7e53ca9-0225-4141-c42d-3e627e390b77",
        "colab": {
          "base_uri": "https://localhost:8080/"
        }
      },
      "source": [
        "library (tidyverse)\n",
        "data = read_csv (\"https://raw.githubusercontent.com/ahmedmoustafa/Notebooks/master/data/WHO_Obesity_By_Country_2016.csv\")"
      ],
      "execution_count": 2,
      "outputs": [
        {
          "output_type": "stream",
          "text": [
            "\n",
            "\u001b[36m──\u001b[39m \u001b[1m\u001b[1mColumn specification\u001b[1m\u001b[22m \u001b[36m────────────────────────────────────────────────────────\u001b[39m\n",
            "cols(\n",
            "  Continent = \u001b[31mcol_character()\u001b[39m,\n",
            "  Country = \u001b[31mcol_character()\u001b[39m,\n",
            "  Male = \u001b[32mcol_double()\u001b[39m,\n",
            "  Female = \u001b[32mcol_double()\u001b[39m,\n",
            "  Both = \u001b[32mcol_double()\u001b[39m\n",
            ")\n",
            "\n",
            "\n"
          ],
          "name": "stderr"
        }
      ]
    },
    {
      "cell_type": "code",
      "metadata": {
        "id": "cFtxTU5lmQXb",
        "outputId": "6dec8b2e-e2f9-46a7-d1bb-22f02053d71e",
        "colab": {
          "base_uri": "https://localhost:8080/"
        }
      },
      "source": [
        "glimpse(data)"
      ],
      "execution_count": 3,
      "outputs": [
        {
          "output_type": "stream",
          "text": [
            "Rows: 197\n",
            "Columns: 5\n",
            "$ Continent \u001b[3m\u001b[90m<chr>\u001b[39m\u001b[23m \"Africa\", \"Africa\", \"Africa\", \"Africa\", \"Africa\", \"Africa\",…\n",
            "$ Country   \u001b[3m\u001b[90m<chr>\u001b[39m\u001b[23m \"Algeria\", \"Angola\", \"Benin\", \"Botswana\", \"Burkina Faso\", \"…\n",
            "$ Male      \u001b[3m\u001b[90m<dbl>\u001b[39m\u001b[23m 19.4, 3.5, 4.2, 7.0, 2.2, 1.8, 5.2, 6.3, 3.2, 2.6, 3.0, 4.9…\n",
            "$ Female    \u001b[3m\u001b[90m<dbl>\u001b[39m\u001b[23m 34.0, 10.0, 12.2, 25.5, 6.8, 7.0, 13.9, 14.9, 9.3, 7.0, 10.…\n",
            "$ Both      \u001b[3m\u001b[90m<dbl>\u001b[39m\u001b[23m 26.6, 6.8, 8.2, 16.1, 4.5, 4.4, 9.5, 10.6, 6.3, 4.8, 6.9, 8…\n"
          ],
          "name": "stdout"
        }
      ]
    },
    {
      "cell_type": "code",
      "metadata": {
        "id": "isGUTUT8mUXd",
        "outputId": "52a41239-8a90-4659-eed1-39e4cdf198de",
        "colab": {
          "base_uri": "https://localhost:8080/",
          "height": 99
        }
      },
      "source": [
        "data %>% filter (Country == \"Egypt\")"
      ],
      "execution_count": 4,
      "outputs": [
        {
          "output_type": "display_data",
          "data": {
            "text/plain": [
              "  Continent Country Male Female Both\n",
              "1 Africa    Egypt   22   40     31.1"
            ],
            "text/latex": "A spec\\_tbl\\_df: 1 × 5\n\\begin{tabular}{lllll}\n Continent & Country & Male & Female & Both\\\\\n <chr> & <chr> & <dbl> & <dbl> & <dbl>\\\\\n\\hline\n\t Africa & Egypt & 22 & 40 & 31.1\\\\\n\\end{tabular}\n",
            "text/markdown": "\nA spec_tbl_df: 1 × 5\n\n| Continent &lt;chr&gt; | Country &lt;chr&gt; | Male &lt;dbl&gt; | Female &lt;dbl&gt; | Both &lt;dbl&gt; |\n|---|---|---|---|---|\n| Africa | Egypt | 22 | 40 | 31.1 |\n\n",
            "text/html": [
              "<table>\n",
              "<caption>A spec_tbl_df: 1 × 5</caption>\n",
              "<thead>\n",
              "\t<tr><th scope=col>Continent</th><th scope=col>Country</th><th scope=col>Male</th><th scope=col>Female</th><th scope=col>Both</th></tr>\n",
              "\t<tr><th scope=col>&lt;chr&gt;</th><th scope=col>&lt;chr&gt;</th><th scope=col>&lt;dbl&gt;</th><th scope=col>&lt;dbl&gt;</th><th scope=col>&lt;dbl&gt;</th></tr>\n",
              "</thead>\n",
              "<tbody>\n",
              "\t<tr><td>Africa</td><td>Egypt</td><td>22</td><td>40</td><td>31.1</td></tr>\n",
              "</tbody>\n",
              "</table>\n"
            ]
          },
          "metadata": {
            "tags": []
          }
        }
      ]
    },
    {
      "cell_type": "code",
      "metadata": {
        "id": "x3hz5QHYmz5i",
        "outputId": "45a5ce7e-4f0f-40a1-f42d-56a6ed2143d8",
        "colab": {
          "base_uri": "https://localhost:8080/",
          "height": 238
        }
      },
      "source": [
        "data %>% group_by(Continent) %>% summarise(med = median(Male))"
      ],
      "execution_count": 6,
      "outputs": [
        {
          "output_type": "stream",
          "text": [
            "`summarise()` ungrouping output (override with `.groups` argument)\n",
            "\n"
          ],
          "name": "stderr"
        },
        {
          "output_type": "display_data",
          "data": {
            "text/plain": [
              "  Continent     med  \n",
              "1 Africa         3.70\n",
              "2 Asia          12.90\n",
              "3 Europe        23.75\n",
              "4 North America 16.50\n",
              "5 Oceania       38.60\n",
              "6 South America 17.90"
            ],
            "text/latex": "A tibble: 6 × 2\n\\begin{tabular}{ll}\n Continent & med\\\\\n <chr> & <dbl>\\\\\n\\hline\n\t Africa        &  3.70\\\\\n\t Asia          & 12.90\\\\\n\t Europe        & 23.75\\\\\n\t North America & 16.50\\\\\n\t Oceania       & 38.60\\\\\n\t South America & 17.90\\\\\n\\end{tabular}\n",
            "text/markdown": "\nA tibble: 6 × 2\n\n| Continent &lt;chr&gt; | med &lt;dbl&gt; |\n|---|---|\n| Africa        |  3.70 |\n| Asia          | 12.90 |\n| Europe        | 23.75 |\n| North America | 16.50 |\n| Oceania       | 38.60 |\n| South America | 17.90 |\n\n",
            "text/html": [
              "<table>\n",
              "<caption>A tibble: 6 × 2</caption>\n",
              "<thead>\n",
              "\t<tr><th scope=col>Continent</th><th scope=col>med</th></tr>\n",
              "\t<tr><th scope=col>&lt;chr&gt;</th><th scope=col>&lt;dbl&gt;</th></tr>\n",
              "</thead>\n",
              "<tbody>\n",
              "\t<tr><td>Africa       </td><td> 3.70</td></tr>\n",
              "\t<tr><td>Asia         </td><td>12.90</td></tr>\n",
              "\t<tr><td>Europe       </td><td>23.75</td></tr>\n",
              "\t<tr><td>North America</td><td>16.50</td></tr>\n",
              "\t<tr><td>Oceania      </td><td>38.60</td></tr>\n",
              "\t<tr><td>South America</td><td>17.90</td></tr>\n",
              "</tbody>\n",
              "</table>\n"
            ]
          },
          "metadata": {
            "tags": []
          }
        }
      ]
    },
    {
      "cell_type": "code",
      "metadata": {
        "id": "bZVV8mynnVaS",
        "outputId": "748c058e-abd9-4389-b1ce-b60b2c62991d",
        "colab": {
          "base_uri": "https://localhost:8080/",
          "height": 431
        }
      },
      "source": [
        "data %>% filter (Male > Female)"
      ],
      "execution_count": 9,
      "outputs": [
        {
          "output_type": "display_data",
          "data": {
            "text/plain": [
              "   Continent Country     Male Female Both\n",
              "1  Asia      Japan        4.6  4.1    4.4\n",
              "2  Europe    Austria     23.4 20.6   21.9\n",
              "3  Europe    Belgium     25.1 23.9   24.5\n",
              "4  Europe    Bulgaria    27.5 27.4   27.4\n",
              "5  Europe    Denmark     23.7 18.9   21.3\n",
              "6  Europe    Finland     25.7 24.2   24.9\n",
              "7  Europe    France      23.5 23.0   23.2\n",
              "8  Europe    Germany     26.6 24.9   25.7\n",
              "9  Europe    Hungary     29.9 27.5   28.6\n",
              "10 Europe    Iceland     25.3 20.9   23.1\n",
              "11 Europe    Luxembourg  26.0 22.4   24.2\n",
              "12 Europe    Norway      25.1 24.8   25.0\n",
              "13 Europe    Romania     24.9 24.2   24.5\n",
              "14 Europe    Slovakia    22.5 22.3   22.4\n",
              "15 Europe    Sweden      24.2 20.0   22.1\n",
              "16 Europe    Switzerland 23.7 18.8   21.2\n",
              "17 Oceania   Australia   30.7 30.1   30.4"
            ],
            "text/latex": "A spec\\_tbl\\_df: 17 × 5\n\\begin{tabular}{lllll}\n Continent & Country & Male & Female & Both\\\\\n <chr> & <chr> & <dbl> & <dbl> & <dbl>\\\\\n\\hline\n\t Asia    & Japan       &  4.6 &  4.1 &  4.4\\\\\n\t Europe  & Austria     & 23.4 & 20.6 & 21.9\\\\\n\t Europe  & Belgium     & 25.1 & 23.9 & 24.5\\\\\n\t Europe  & Bulgaria    & 27.5 & 27.4 & 27.4\\\\\n\t Europe  & Denmark     & 23.7 & 18.9 & 21.3\\\\\n\t Europe  & Finland     & 25.7 & 24.2 & 24.9\\\\\n\t Europe  & France      & 23.5 & 23.0 & 23.2\\\\\n\t Europe  & Germany     & 26.6 & 24.9 & 25.7\\\\\n\t Europe  & Hungary     & 29.9 & 27.5 & 28.6\\\\\n\t Europe  & Iceland     & 25.3 & 20.9 & 23.1\\\\\n\t Europe  & Luxembourg  & 26.0 & 22.4 & 24.2\\\\\n\t Europe  & Norway      & 25.1 & 24.8 & 25.0\\\\\n\t Europe  & Romania     & 24.9 & 24.2 & 24.5\\\\\n\t Europe  & Slovakia    & 22.5 & 22.3 & 22.4\\\\\n\t Europe  & Sweden      & 24.2 & 20.0 & 22.1\\\\\n\t Europe  & Switzerland & 23.7 & 18.8 & 21.2\\\\\n\t Oceania & Australia   & 30.7 & 30.1 & 30.4\\\\\n\\end{tabular}\n",
            "text/markdown": "\nA spec_tbl_df: 17 × 5\n\n| Continent &lt;chr&gt; | Country &lt;chr&gt; | Male &lt;dbl&gt; | Female &lt;dbl&gt; | Both &lt;dbl&gt; |\n|---|---|---|---|---|\n| Asia    | Japan       |  4.6 |  4.1 |  4.4 |\n| Europe  | Austria     | 23.4 | 20.6 | 21.9 |\n| Europe  | Belgium     | 25.1 | 23.9 | 24.5 |\n| Europe  | Bulgaria    | 27.5 | 27.4 | 27.4 |\n| Europe  | Denmark     | 23.7 | 18.9 | 21.3 |\n| Europe  | Finland     | 25.7 | 24.2 | 24.9 |\n| Europe  | France      | 23.5 | 23.0 | 23.2 |\n| Europe  | Germany     | 26.6 | 24.9 | 25.7 |\n| Europe  | Hungary     | 29.9 | 27.5 | 28.6 |\n| Europe  | Iceland     | 25.3 | 20.9 | 23.1 |\n| Europe  | Luxembourg  | 26.0 | 22.4 | 24.2 |\n| Europe  | Norway      | 25.1 | 24.8 | 25.0 |\n| Europe  | Romania     | 24.9 | 24.2 | 24.5 |\n| Europe  | Slovakia    | 22.5 | 22.3 | 22.4 |\n| Europe  | Sweden      | 24.2 | 20.0 | 22.1 |\n| Europe  | Switzerland | 23.7 | 18.8 | 21.2 |\n| Oceania | Australia   | 30.7 | 30.1 | 30.4 |\n\n",
            "text/html": [
              "<table>\n",
              "<caption>A spec_tbl_df: 17 × 5</caption>\n",
              "<thead>\n",
              "\t<tr><th scope=col>Continent</th><th scope=col>Country</th><th scope=col>Male</th><th scope=col>Female</th><th scope=col>Both</th></tr>\n",
              "\t<tr><th scope=col>&lt;chr&gt;</th><th scope=col>&lt;chr&gt;</th><th scope=col>&lt;dbl&gt;</th><th scope=col>&lt;dbl&gt;</th><th scope=col>&lt;dbl&gt;</th></tr>\n",
              "</thead>\n",
              "<tbody>\n",
              "\t<tr><td>Asia   </td><td>Japan      </td><td> 4.6</td><td> 4.1</td><td> 4.4</td></tr>\n",
              "\t<tr><td>Europe </td><td>Austria    </td><td>23.4</td><td>20.6</td><td>21.9</td></tr>\n",
              "\t<tr><td>Europe </td><td>Belgium    </td><td>25.1</td><td>23.9</td><td>24.5</td></tr>\n",
              "\t<tr><td>Europe </td><td>Bulgaria   </td><td>27.5</td><td>27.4</td><td>27.4</td></tr>\n",
              "\t<tr><td>Europe </td><td>Denmark    </td><td>23.7</td><td>18.9</td><td>21.3</td></tr>\n",
              "\t<tr><td>Europe </td><td>Finland    </td><td>25.7</td><td>24.2</td><td>24.9</td></tr>\n",
              "\t<tr><td>Europe </td><td>France     </td><td>23.5</td><td>23.0</td><td>23.2</td></tr>\n",
              "\t<tr><td>Europe </td><td>Germany    </td><td>26.6</td><td>24.9</td><td>25.7</td></tr>\n",
              "\t<tr><td>Europe </td><td>Hungary    </td><td>29.9</td><td>27.5</td><td>28.6</td></tr>\n",
              "\t<tr><td>Europe </td><td>Iceland    </td><td>25.3</td><td>20.9</td><td>23.1</td></tr>\n",
              "\t<tr><td>Europe </td><td>Luxembourg </td><td>26.0</td><td>22.4</td><td>24.2</td></tr>\n",
              "\t<tr><td>Europe </td><td>Norway     </td><td>25.1</td><td>24.8</td><td>25.0</td></tr>\n",
              "\t<tr><td>Europe </td><td>Romania    </td><td>24.9</td><td>24.2</td><td>24.5</td></tr>\n",
              "\t<tr><td>Europe </td><td>Slovakia   </td><td>22.5</td><td>22.3</td><td>22.4</td></tr>\n",
              "\t<tr><td>Europe </td><td>Sweden     </td><td>24.2</td><td>20.0</td><td>22.1</td></tr>\n",
              "\t<tr><td>Europe </td><td>Switzerland</td><td>23.7</td><td>18.8</td><td>21.2</td></tr>\n",
              "\t<tr><td>Oceania</td><td>Australia  </td><td>30.7</td><td>30.1</td><td>30.4</td></tr>\n",
              "</tbody>\n",
              "</table>\n"
            ]
          },
          "metadata": {
            "tags": []
          }
        }
      ]
    },
    {
      "cell_type": "code",
      "metadata": {
        "id": "E3aU_fSlno9f",
        "outputId": "94162f50-f735-4417-cfb1-f2b74c2a8c82",
        "colab": {
          "base_uri": "https://localhost:8080/",
          "height": 504
        }
      },
      "source": [
        "data %>% group_by (Country) %>% summarize(value= Male > Female) %>% filter (value == TRUE)"
      ],
      "execution_count": 11,
      "outputs": [
        {
          "output_type": "stream",
          "text": [
            "`summarise()` regrouping output by 'Country' (override with `.groups` argument)\n",
            "\n"
          ],
          "name": "stderr"
        },
        {
          "output_type": "display_data",
          "data": {
            "text/plain": [
              "   Country     value\n",
              "1  Australia   TRUE \n",
              "2  Austria     TRUE \n",
              "3  Belgium     TRUE \n",
              "4  Bulgaria    TRUE \n",
              "5  Denmark     TRUE \n",
              "6  Finland     TRUE \n",
              "7  France      TRUE \n",
              "8  Germany     TRUE \n",
              "9  Hungary     TRUE \n",
              "10 Iceland     TRUE \n",
              "11 Japan       TRUE \n",
              "12 Luxembourg  TRUE \n",
              "13 Norway      TRUE \n",
              "14 Romania     TRUE \n",
              "15 Slovakia    TRUE \n",
              "16 Sweden      TRUE \n",
              "17 Switzerland TRUE "
            ],
            "text/latex": "A grouped\\_df: 17 × 2\n\\begin{tabular}{ll}\n Country & value\\\\\n <chr> & <lgl>\\\\\n\\hline\n\t Australia   & TRUE\\\\\n\t Austria     & TRUE\\\\\n\t Belgium     & TRUE\\\\\n\t Bulgaria    & TRUE\\\\\n\t Denmark     & TRUE\\\\\n\t Finland     & TRUE\\\\\n\t France      & TRUE\\\\\n\t Germany     & TRUE\\\\\n\t Hungary     & TRUE\\\\\n\t Iceland     & TRUE\\\\\n\t Japan       & TRUE\\\\\n\t Luxembourg  & TRUE\\\\\n\t Norway      & TRUE\\\\\n\t Romania     & TRUE\\\\\n\t Slovakia    & TRUE\\\\\n\t Sweden      & TRUE\\\\\n\t Switzerland & TRUE\\\\\n\\end{tabular}\n",
            "text/markdown": "\nA grouped_df: 17 × 2\n\n| Country &lt;chr&gt; | value &lt;lgl&gt; |\n|---|---|\n| Australia   | TRUE |\n| Austria     | TRUE |\n| Belgium     | TRUE |\n| Bulgaria    | TRUE |\n| Denmark     | TRUE |\n| Finland     | TRUE |\n| France      | TRUE |\n| Germany     | TRUE |\n| Hungary     | TRUE |\n| Iceland     | TRUE |\n| Japan       | TRUE |\n| Luxembourg  | TRUE |\n| Norway      | TRUE |\n| Romania     | TRUE |\n| Slovakia    | TRUE |\n| Sweden      | TRUE |\n| Switzerland | TRUE |\n\n",
            "text/html": [
              "<table>\n",
              "<caption>A grouped_df: 17 × 2</caption>\n",
              "<thead>\n",
              "\t<tr><th scope=col>Country</th><th scope=col>value</th></tr>\n",
              "\t<tr><th scope=col>&lt;chr&gt;</th><th scope=col>&lt;lgl&gt;</th></tr>\n",
              "</thead>\n",
              "<tbody>\n",
              "\t<tr><td>Australia  </td><td>TRUE</td></tr>\n",
              "\t<tr><td>Austria    </td><td>TRUE</td></tr>\n",
              "\t<tr><td>Belgium    </td><td>TRUE</td></tr>\n",
              "\t<tr><td>Bulgaria   </td><td>TRUE</td></tr>\n",
              "\t<tr><td>Denmark    </td><td>TRUE</td></tr>\n",
              "\t<tr><td>Finland    </td><td>TRUE</td></tr>\n",
              "\t<tr><td>France     </td><td>TRUE</td></tr>\n",
              "\t<tr><td>Germany    </td><td>TRUE</td></tr>\n",
              "\t<tr><td>Hungary    </td><td>TRUE</td></tr>\n",
              "\t<tr><td>Iceland    </td><td>TRUE</td></tr>\n",
              "\t<tr><td>Japan      </td><td>TRUE</td></tr>\n",
              "\t<tr><td>Luxembourg </td><td>TRUE</td></tr>\n",
              "\t<tr><td>Norway     </td><td>TRUE</td></tr>\n",
              "\t<tr><td>Romania    </td><td>TRUE</td></tr>\n",
              "\t<tr><td>Slovakia   </td><td>TRUE</td></tr>\n",
              "\t<tr><td>Sweden     </td><td>TRUE</td></tr>\n",
              "\t<tr><td>Switzerland</td><td>TRUE</td></tr>\n",
              "</tbody>\n",
              "</table>\n"
            ]
          },
          "metadata": {
            "tags": []
          }
        }
      ]
    },
    {
      "cell_type": "code",
      "metadata": {
        "id": "BB57SvCPpbQj",
        "outputId": "b9f29352-92cc-48a2-b4ed-e4f5b66f6c5c",
        "colab": {
          "base_uri": "https://localhost:8080/",
          "height": 1000
        }
      },
      "source": [
        "data %>% filter (Male < Female)"
      ],
      "execution_count": 12,
      "outputs": [
        {
          "output_type": "display_data",
          "data": {
            "text/plain": [
              "    Continent     Country                          Male Female Both\n",
              "1   Africa        Algeria                          19.4 34.0   26.6\n",
              "2   Africa        Angola                            3.5 10.0    6.8\n",
              "3   Africa        Benin                             4.2 12.2    8.2\n",
              "4   Africa        Botswana                          7.0 25.5   16.1\n",
              "5   Africa        Burkina Faso                      2.2  6.8    4.5\n",
              "6   Africa        Burundi                           1.8  7.0    4.4\n",
              "7   Africa        Cameroon                          5.2 13.9    9.5\n",
              "8   Africa        Cape Verde                        6.3 14.9   10.6\n",
              "9   Africa        Central African Republic          3.2  9.3    6.3\n",
              "10  Africa        Chad                              2.6  7.0    4.8\n",
              "11  Africa        Comoros                           3.0 10.8    6.9\n",
              "12  Africa        Congo                             4.9 11.8    8.4\n",
              "13  Africa        Congo                             3.1  8.0    5.6\n",
              "14  Africa        Cote d'Ivoire                     5.2 13.1    9.0\n",
              "15  Africa        Djibouti                          7.9 16.5   12.2\n",
              "16  Africa        Egypt                            22.0 40.0   31.1\n",
              "17  Africa        Equatorial Guinea                 3.6 11.4    7.4\n",
              "18  Africa        Eritrea                           1.8  6.3    4.1\n",
              "19  Africa        Ethiopia                          1.6  5.6    3.6\n",
              "20  Africa        Gabon                             8.6 18.2   13.4\n",
              "21  Africa        Gambia                            4.8 12.4    8.7\n",
              "22  Africa        Ghana                             4.1 15.0    9.7\n",
              "23  Africa        Guinea                            3.3  9.9    6.6\n",
              "24  Africa        Guinea-Bissau                     4.5 11.8    8.2\n",
              "25  Africa        Kenya                             2.5  9.4    6.0\n",
              "26  Africa        Lesotho                           3.7 22.8   13.5\n",
              "27  Africa        Liberia                           4.9 12.3    8.6\n",
              "28  Africa        Libya                            24.5 38.7   31.8\n",
              "29  Africa        Madagascar                        2.6  6.3    4.5\n",
              "30  Africa        Malawi                            1.9  7.5    4.7\n",
              "⋮   ⋮             ⋮                                ⋮    ⋮      ⋮   \n",
              "151 North America Saint Vincent and the Grenadines 16.7 31.0   23.8\n",
              "152 North America Trinidad and Tobago              11.4 27.7   19.7\n",
              "153 North America United States of America         36.5 38.2   37.3\n",
              "154 Oceania       Cook Islands                     52.0 58.6   55.3\n",
              "155 Oceania       Fiji                             24.9 35.3   30.0\n",
              "156 Oceania       Kiribati                         41.2 50.0   45.6\n",
              "157 Oceania       Marshall Islands                 47.9 56.9   52.4\n",
              "158 Oceania       Micronesia                       36.1 47.3   41.6\n",
              "159 Oceania       Nauru                            58.5 63.0   60.7\n",
              "160 Oceania       New Zealand                      31.0 32.9   32.0\n",
              "161 Oceania       Niue                             44.2 54.5   49.3\n",
              "162 Oceania       Palau                            51.3 58.4   54.9\n",
              "163 Oceania       Papua New Guinea                 15.2 23.7   19.4\n",
              "164 Oceania       Samoa                            38.2 53.2   45.5\n",
              "165 Oceania       Solomon Islands                  16.3 24.7   20.5\n",
              "166 Oceania       Tonga                            39.0 52.6   45.9\n",
              "167 Oceania       Tuvalu                           46.4 55.6   51.0\n",
              "168 Oceania       Vanuatu                          18.8 28.1   23.5\n",
              "169 South America Argentina                        27.4 29.6   28.5\n",
              "170 South America Bolivia                          13.4 23.9   18.7\n",
              "171 South America Brazil                           18.5 25.9   22.3\n",
              "172 South America Chile                            25.5 32.1   28.8\n",
              "173 South America Colombia                         17.3 26.7   22.1\n",
              "174 South America Ecuador                          14.4 24.1   19.3\n",
              "175 South America Guyana                           12.2 26.1   19.2\n",
              "176 South America Paraguay                         16.1 21.9   19.0\n",
              "177 South America Peru                             14.7 23.5   19.1\n",
              "178 South America Suriname                         19.0 33.9   26.5\n",
              "179 South America Uruguay                          25.3 32.1   28.9\n",
              "180 South America Venezuela                        22.1 28.3   25.2"
            ],
            "text/latex": "A spec\\_tbl\\_df: 180 × 5\n\\begin{tabular}{lllll}\n Continent & Country & Male & Female & Both\\\\\n <chr> & <chr> & <dbl> & <dbl> & <dbl>\\\\\n\\hline\n\t Africa & Algeria                  & 19.4 & 34.0 & 26.6\\\\\n\t Africa & Angola                   &  3.5 & 10.0 &  6.8\\\\\n\t Africa & Benin                    &  4.2 & 12.2 &  8.2\\\\\n\t Africa & Botswana                 &  7.0 & 25.5 & 16.1\\\\\n\t Africa & Burkina Faso             &  2.2 &  6.8 &  4.5\\\\\n\t Africa & Burundi                  &  1.8 &  7.0 &  4.4\\\\\n\t Africa & Cameroon                 &  5.2 & 13.9 &  9.5\\\\\n\t Africa & Cape Verde               &  6.3 & 14.9 & 10.6\\\\\n\t Africa & Central African Republic &  3.2 &  9.3 &  6.3\\\\\n\t Africa & Chad                     &  2.6 &  7.0 &  4.8\\\\\n\t Africa & Comoros                  &  3.0 & 10.8 &  6.9\\\\\n\t Africa & Congo                    &  4.9 & 11.8 &  8.4\\\\\n\t Africa & Congo                    &  3.1 &  8.0 &  5.6\\\\\n\t Africa & Cote d'Ivoire            &  5.2 & 13.1 &  9.0\\\\\n\t Africa & Djibouti                 &  7.9 & 16.5 & 12.2\\\\\n\t Africa & Egypt                    & 22.0 & 40.0 & 31.1\\\\\n\t Africa & Equatorial Guinea        &  3.6 & 11.4 &  7.4\\\\\n\t Africa & Eritrea                  &  1.8 &  6.3 &  4.1\\\\\n\t Africa & Ethiopia                 &  1.6 &  5.6 &  3.6\\\\\n\t Africa & Gabon                    &  8.6 & 18.2 & 13.4\\\\\n\t Africa & Gambia                   &  4.8 & 12.4 &  8.7\\\\\n\t Africa & Ghana                    &  4.1 & 15.0 &  9.7\\\\\n\t Africa & Guinea                   &  3.3 &  9.9 &  6.6\\\\\n\t Africa & Guinea-Bissau            &  4.5 & 11.8 &  8.2\\\\\n\t Africa & Kenya                    &  2.5 &  9.4 &  6.0\\\\\n\t Africa & Lesotho                  &  3.7 & 22.8 & 13.5\\\\\n\t Africa & Liberia                  &  4.9 & 12.3 &  8.6\\\\\n\t Africa & Libya                    & 24.5 & 38.7 & 31.8\\\\\n\t Africa & Madagascar               &  2.6 &  6.3 &  4.5\\\\\n\t Africa & Malawi                   &  1.9 &  7.5 &  4.7\\\\\n\t ⋮ & ⋮ & ⋮ & ⋮ & ⋮\\\\\n\t North America & Saint Vincent and the Grenadines & 16.7 & 31.0 & 23.8\\\\\n\t North America & Trinidad and Tobago              & 11.4 & 27.7 & 19.7\\\\\n\t North America & United States of America         & 36.5 & 38.2 & 37.3\\\\\n\t Oceania       & Cook Islands                     & 52.0 & 58.6 & 55.3\\\\\n\t Oceania       & Fiji                             & 24.9 & 35.3 & 30.0\\\\\n\t Oceania       & Kiribati                         & 41.2 & 50.0 & 45.6\\\\\n\t Oceania       & Marshall Islands                 & 47.9 & 56.9 & 52.4\\\\\n\t Oceania       & Micronesia                       & 36.1 & 47.3 & 41.6\\\\\n\t Oceania       & Nauru                            & 58.5 & 63.0 & 60.7\\\\\n\t Oceania       & New Zealand                      & 31.0 & 32.9 & 32.0\\\\\n\t Oceania       & Niue                             & 44.2 & 54.5 & 49.3\\\\\n\t Oceania       & Palau                            & 51.3 & 58.4 & 54.9\\\\\n\t Oceania       & Papua New Guinea                 & 15.2 & 23.7 & 19.4\\\\\n\t Oceania       & Samoa                            & 38.2 & 53.2 & 45.5\\\\\n\t Oceania       & Solomon Islands                  & 16.3 & 24.7 & 20.5\\\\\n\t Oceania       & Tonga                            & 39.0 & 52.6 & 45.9\\\\\n\t Oceania       & Tuvalu                           & 46.4 & 55.6 & 51.0\\\\\n\t Oceania       & Vanuatu                          & 18.8 & 28.1 & 23.5\\\\\n\t South America & Argentina                        & 27.4 & 29.6 & 28.5\\\\\n\t South America & Bolivia                          & 13.4 & 23.9 & 18.7\\\\\n\t South America & Brazil                           & 18.5 & 25.9 & 22.3\\\\\n\t South America & Chile                            & 25.5 & 32.1 & 28.8\\\\\n\t South America & Colombia                         & 17.3 & 26.7 & 22.1\\\\\n\t South America & Ecuador                          & 14.4 & 24.1 & 19.3\\\\\n\t South America & Guyana                           & 12.2 & 26.1 & 19.2\\\\\n\t South America & Paraguay                         & 16.1 & 21.9 & 19.0\\\\\n\t South America & Peru                             & 14.7 & 23.5 & 19.1\\\\\n\t South America & Suriname                         & 19.0 & 33.9 & 26.5\\\\\n\t South America & Uruguay                          & 25.3 & 32.1 & 28.9\\\\\n\t South America & Venezuela                        & 22.1 & 28.3 & 25.2\\\\\n\\end{tabular}\n",
            "text/markdown": "\nA spec_tbl_df: 180 × 5\n\n| Continent &lt;chr&gt; | Country &lt;chr&gt; | Male &lt;dbl&gt; | Female &lt;dbl&gt; | Both &lt;dbl&gt; |\n|---|---|---|---|---|\n| Africa | Algeria                  | 19.4 | 34.0 | 26.6 |\n| Africa | Angola                   |  3.5 | 10.0 |  6.8 |\n| Africa | Benin                    |  4.2 | 12.2 |  8.2 |\n| Africa | Botswana                 |  7.0 | 25.5 | 16.1 |\n| Africa | Burkina Faso             |  2.2 |  6.8 |  4.5 |\n| Africa | Burundi                  |  1.8 |  7.0 |  4.4 |\n| Africa | Cameroon                 |  5.2 | 13.9 |  9.5 |\n| Africa | Cape Verde               |  6.3 | 14.9 | 10.6 |\n| Africa | Central African Republic |  3.2 |  9.3 |  6.3 |\n| Africa | Chad                     |  2.6 |  7.0 |  4.8 |\n| Africa | Comoros                  |  3.0 | 10.8 |  6.9 |\n| Africa | Congo                    |  4.9 | 11.8 |  8.4 |\n| Africa | Congo                    |  3.1 |  8.0 |  5.6 |\n| Africa | Cote d'Ivoire            |  5.2 | 13.1 |  9.0 |\n| Africa | Djibouti                 |  7.9 | 16.5 | 12.2 |\n| Africa | Egypt                    | 22.0 | 40.0 | 31.1 |\n| Africa | Equatorial Guinea        |  3.6 | 11.4 |  7.4 |\n| Africa | Eritrea                  |  1.8 |  6.3 |  4.1 |\n| Africa | Ethiopia                 |  1.6 |  5.6 |  3.6 |\n| Africa | Gabon                    |  8.6 | 18.2 | 13.4 |\n| Africa | Gambia                   |  4.8 | 12.4 |  8.7 |\n| Africa | Ghana                    |  4.1 | 15.0 |  9.7 |\n| Africa | Guinea                   |  3.3 |  9.9 |  6.6 |\n| Africa | Guinea-Bissau            |  4.5 | 11.8 |  8.2 |\n| Africa | Kenya                    |  2.5 |  9.4 |  6.0 |\n| Africa | Lesotho                  |  3.7 | 22.8 | 13.5 |\n| Africa | Liberia                  |  4.9 | 12.3 |  8.6 |\n| Africa | Libya                    | 24.5 | 38.7 | 31.8 |\n| Africa | Madagascar               |  2.6 |  6.3 |  4.5 |\n| Africa | Malawi                   |  1.9 |  7.5 |  4.7 |\n| ⋮ | ⋮ | ⋮ | ⋮ | ⋮ |\n| North America | Saint Vincent and the Grenadines | 16.7 | 31.0 | 23.8 |\n| North America | Trinidad and Tobago              | 11.4 | 27.7 | 19.7 |\n| North America | United States of America         | 36.5 | 38.2 | 37.3 |\n| Oceania       | Cook Islands                     | 52.0 | 58.6 | 55.3 |\n| Oceania       | Fiji                             | 24.9 | 35.3 | 30.0 |\n| Oceania       | Kiribati                         | 41.2 | 50.0 | 45.6 |\n| Oceania       | Marshall Islands                 | 47.9 | 56.9 | 52.4 |\n| Oceania       | Micronesia                       | 36.1 | 47.3 | 41.6 |\n| Oceania       | Nauru                            | 58.5 | 63.0 | 60.7 |\n| Oceania       | New Zealand                      | 31.0 | 32.9 | 32.0 |\n| Oceania       | Niue                             | 44.2 | 54.5 | 49.3 |\n| Oceania       | Palau                            | 51.3 | 58.4 | 54.9 |\n| Oceania       | Papua New Guinea                 | 15.2 | 23.7 | 19.4 |\n| Oceania       | Samoa                            | 38.2 | 53.2 | 45.5 |\n| Oceania       | Solomon Islands                  | 16.3 | 24.7 | 20.5 |\n| Oceania       | Tonga                            | 39.0 | 52.6 | 45.9 |\n| Oceania       | Tuvalu                           | 46.4 | 55.6 | 51.0 |\n| Oceania       | Vanuatu                          | 18.8 | 28.1 | 23.5 |\n| South America | Argentina                        | 27.4 | 29.6 | 28.5 |\n| South America | Bolivia                          | 13.4 | 23.9 | 18.7 |\n| South America | Brazil                           | 18.5 | 25.9 | 22.3 |\n| South America | Chile                            | 25.5 | 32.1 | 28.8 |\n| South America | Colombia                         | 17.3 | 26.7 | 22.1 |\n| South America | Ecuador                          | 14.4 | 24.1 | 19.3 |\n| South America | Guyana                           | 12.2 | 26.1 | 19.2 |\n| South America | Paraguay                         | 16.1 | 21.9 | 19.0 |\n| South America | Peru                             | 14.7 | 23.5 | 19.1 |\n| South America | Suriname                         | 19.0 | 33.9 | 26.5 |\n| South America | Uruguay                          | 25.3 | 32.1 | 28.9 |\n| South America | Venezuela                        | 22.1 | 28.3 | 25.2 |\n\n",
            "text/html": [
              "<table>\n",
              "<caption>A spec_tbl_df: 180 × 5</caption>\n",
              "<thead>\n",
              "\t<tr><th scope=col>Continent</th><th scope=col>Country</th><th scope=col>Male</th><th scope=col>Female</th><th scope=col>Both</th></tr>\n",
              "\t<tr><th scope=col>&lt;chr&gt;</th><th scope=col>&lt;chr&gt;</th><th scope=col>&lt;dbl&gt;</th><th scope=col>&lt;dbl&gt;</th><th scope=col>&lt;dbl&gt;</th></tr>\n",
              "</thead>\n",
              "<tbody>\n",
              "\t<tr><td>Africa</td><td>Algeria                 </td><td>19.4</td><td>34.0</td><td>26.6</td></tr>\n",
              "\t<tr><td>Africa</td><td>Angola                  </td><td> 3.5</td><td>10.0</td><td> 6.8</td></tr>\n",
              "\t<tr><td>Africa</td><td>Benin                   </td><td> 4.2</td><td>12.2</td><td> 8.2</td></tr>\n",
              "\t<tr><td>Africa</td><td>Botswana                </td><td> 7.0</td><td>25.5</td><td>16.1</td></tr>\n",
              "\t<tr><td>Africa</td><td>Burkina Faso            </td><td> 2.2</td><td> 6.8</td><td> 4.5</td></tr>\n",
              "\t<tr><td>Africa</td><td>Burundi                 </td><td> 1.8</td><td> 7.0</td><td> 4.4</td></tr>\n",
              "\t<tr><td>Africa</td><td>Cameroon                </td><td> 5.2</td><td>13.9</td><td> 9.5</td></tr>\n",
              "\t<tr><td>Africa</td><td>Cape Verde              </td><td> 6.3</td><td>14.9</td><td>10.6</td></tr>\n",
              "\t<tr><td>Africa</td><td>Central African Republic</td><td> 3.2</td><td> 9.3</td><td> 6.3</td></tr>\n",
              "\t<tr><td>Africa</td><td>Chad                    </td><td> 2.6</td><td> 7.0</td><td> 4.8</td></tr>\n",
              "\t<tr><td>Africa</td><td>Comoros                 </td><td> 3.0</td><td>10.8</td><td> 6.9</td></tr>\n",
              "\t<tr><td>Africa</td><td>Congo                   </td><td> 4.9</td><td>11.8</td><td> 8.4</td></tr>\n",
              "\t<tr><td>Africa</td><td>Congo                   </td><td> 3.1</td><td> 8.0</td><td> 5.6</td></tr>\n",
              "\t<tr><td>Africa</td><td>Cote d'Ivoire           </td><td> 5.2</td><td>13.1</td><td> 9.0</td></tr>\n",
              "\t<tr><td>Africa</td><td>Djibouti                </td><td> 7.9</td><td>16.5</td><td>12.2</td></tr>\n",
              "\t<tr><td>Africa</td><td>Egypt                   </td><td>22.0</td><td>40.0</td><td>31.1</td></tr>\n",
              "\t<tr><td>Africa</td><td>Equatorial Guinea       </td><td> 3.6</td><td>11.4</td><td> 7.4</td></tr>\n",
              "\t<tr><td>Africa</td><td>Eritrea                 </td><td> 1.8</td><td> 6.3</td><td> 4.1</td></tr>\n",
              "\t<tr><td>Africa</td><td>Ethiopia                </td><td> 1.6</td><td> 5.6</td><td> 3.6</td></tr>\n",
              "\t<tr><td>Africa</td><td>Gabon                   </td><td> 8.6</td><td>18.2</td><td>13.4</td></tr>\n",
              "\t<tr><td>Africa</td><td>Gambia                  </td><td> 4.8</td><td>12.4</td><td> 8.7</td></tr>\n",
              "\t<tr><td>Africa</td><td>Ghana                   </td><td> 4.1</td><td>15.0</td><td> 9.7</td></tr>\n",
              "\t<tr><td>Africa</td><td>Guinea                  </td><td> 3.3</td><td> 9.9</td><td> 6.6</td></tr>\n",
              "\t<tr><td>Africa</td><td>Guinea-Bissau           </td><td> 4.5</td><td>11.8</td><td> 8.2</td></tr>\n",
              "\t<tr><td>Africa</td><td>Kenya                   </td><td> 2.5</td><td> 9.4</td><td> 6.0</td></tr>\n",
              "\t<tr><td>Africa</td><td>Lesotho                 </td><td> 3.7</td><td>22.8</td><td>13.5</td></tr>\n",
              "\t<tr><td>Africa</td><td>Liberia                 </td><td> 4.9</td><td>12.3</td><td> 8.6</td></tr>\n",
              "\t<tr><td>Africa</td><td>Libya                   </td><td>24.5</td><td>38.7</td><td>31.8</td></tr>\n",
              "\t<tr><td>Africa</td><td>Madagascar              </td><td> 2.6</td><td> 6.3</td><td> 4.5</td></tr>\n",
              "\t<tr><td>Africa</td><td>Malawi                  </td><td> 1.9</td><td> 7.5</td><td> 4.7</td></tr>\n",
              "\t<tr><td>⋮</td><td>⋮</td><td>⋮</td><td>⋮</td><td>⋮</td></tr>\n",
              "\t<tr><td>North America</td><td>Saint Vincent and the Grenadines</td><td>16.7</td><td>31.0</td><td>23.8</td></tr>\n",
              "\t<tr><td>North America</td><td>Trinidad and Tobago             </td><td>11.4</td><td>27.7</td><td>19.7</td></tr>\n",
              "\t<tr><td>North America</td><td>United States of America        </td><td>36.5</td><td>38.2</td><td>37.3</td></tr>\n",
              "\t<tr><td>Oceania      </td><td>Cook Islands                    </td><td>52.0</td><td>58.6</td><td>55.3</td></tr>\n",
              "\t<tr><td>Oceania      </td><td>Fiji                            </td><td>24.9</td><td>35.3</td><td>30.0</td></tr>\n",
              "\t<tr><td>Oceania      </td><td>Kiribati                        </td><td>41.2</td><td>50.0</td><td>45.6</td></tr>\n",
              "\t<tr><td>Oceania      </td><td>Marshall Islands                </td><td>47.9</td><td>56.9</td><td>52.4</td></tr>\n",
              "\t<tr><td>Oceania      </td><td>Micronesia                      </td><td>36.1</td><td>47.3</td><td>41.6</td></tr>\n",
              "\t<tr><td>Oceania      </td><td>Nauru                           </td><td>58.5</td><td>63.0</td><td>60.7</td></tr>\n",
              "\t<tr><td>Oceania      </td><td>New Zealand                     </td><td>31.0</td><td>32.9</td><td>32.0</td></tr>\n",
              "\t<tr><td>Oceania      </td><td>Niue                            </td><td>44.2</td><td>54.5</td><td>49.3</td></tr>\n",
              "\t<tr><td>Oceania      </td><td>Palau                           </td><td>51.3</td><td>58.4</td><td>54.9</td></tr>\n",
              "\t<tr><td>Oceania      </td><td>Papua New Guinea                </td><td>15.2</td><td>23.7</td><td>19.4</td></tr>\n",
              "\t<tr><td>Oceania      </td><td>Samoa                           </td><td>38.2</td><td>53.2</td><td>45.5</td></tr>\n",
              "\t<tr><td>Oceania      </td><td>Solomon Islands                 </td><td>16.3</td><td>24.7</td><td>20.5</td></tr>\n",
              "\t<tr><td>Oceania      </td><td>Tonga                           </td><td>39.0</td><td>52.6</td><td>45.9</td></tr>\n",
              "\t<tr><td>Oceania      </td><td>Tuvalu                          </td><td>46.4</td><td>55.6</td><td>51.0</td></tr>\n",
              "\t<tr><td>Oceania      </td><td>Vanuatu                         </td><td>18.8</td><td>28.1</td><td>23.5</td></tr>\n",
              "\t<tr><td>South America</td><td>Argentina                       </td><td>27.4</td><td>29.6</td><td>28.5</td></tr>\n",
              "\t<tr><td>South America</td><td>Bolivia                         </td><td>13.4</td><td>23.9</td><td>18.7</td></tr>\n",
              "\t<tr><td>South America</td><td>Brazil                          </td><td>18.5</td><td>25.9</td><td>22.3</td></tr>\n",
              "\t<tr><td>South America</td><td>Chile                           </td><td>25.5</td><td>32.1</td><td>28.8</td></tr>\n",
              "\t<tr><td>South America</td><td>Colombia                        </td><td>17.3</td><td>26.7</td><td>22.1</td></tr>\n",
              "\t<tr><td>South America</td><td>Ecuador                         </td><td>14.4</td><td>24.1</td><td>19.3</td></tr>\n",
              "\t<tr><td>South America</td><td>Guyana                          </td><td>12.2</td><td>26.1</td><td>19.2</td></tr>\n",
              "\t<tr><td>South America</td><td>Paraguay                        </td><td>16.1</td><td>21.9</td><td>19.0</td></tr>\n",
              "\t<tr><td>South America</td><td>Peru                            </td><td>14.7</td><td>23.5</td><td>19.1</td></tr>\n",
              "\t<tr><td>South America</td><td>Suriname                        </td><td>19.0</td><td>33.9</td><td>26.5</td></tr>\n",
              "\t<tr><td>South America</td><td>Uruguay                         </td><td>25.3</td><td>32.1</td><td>28.9</td></tr>\n",
              "\t<tr><td>South America</td><td>Venezuela                       </td><td>22.1</td><td>28.3</td><td>25.2</td></tr>\n",
              "</tbody>\n",
              "</table>\n"
            ]
          },
          "metadata": {
            "tags": []
          }
        }
      ]
    },
    {
      "cell_type": "code",
      "metadata": {
        "id": "_fceysSIp-VT",
        "outputId": "3b10e075-830a-4478-fdf3-bcea412791a2",
        "colab": {
          "base_uri": "https://localhost:8080/",
          "height": 34
        }
      },
      "source": [
        "cor(data$Male, data$Female)"
      ],
      "execution_count": 13,
      "outputs": [
        {
          "output_type": "display_data",
          "data": {
            "text/plain": [
              "[1] 0.8991645"
            ],
            "text/latex": "0.899164479823237",
            "text/markdown": "0.899164479823237",
            "text/html": [
              "0.899164479823237"
            ]
          },
          "metadata": {
            "tags": []
          }
        }
      ]
    },
    {
      "cell_type": "code",
      "metadata": {
        "id": "gkCI9zKEqjw6",
        "outputId": "3842e627-96eb-4e5c-cfb8-54e50bc20db7",
        "colab": {
          "base_uri": "https://localhost:8080/",
          "height": 437
        }
      },
      "source": [
        "plot(data$Male ~ data$Female)"
      ],
      "execution_count": 14,
      "outputs": [
        {
          "output_type": "display_data",
          "data": {
            "image/png": "[encoded data removed]",
            "text/plain": [
              "plot without title"
            ]
          },
          "metadata": {
            "tags": [],
            "image/png": {
              "width": 420,
              "height": 420
            }
          }
        }
      ]
    },
    {
      "cell_type": "code",
      "metadata": {
        "id": "F4iUiLRkqrRu",
        "outputId": "e4a53eb5-af02-483b-abdf-02f2be763b9d",
        "colab": {
          "base_uri": "https://localhost:8080/",
          "height": 34
        }
      },
      "source": [
        "x = data$Male\n",
        "head(x)"
      ],
      "execution_count": 15,
      "outputs": [
        {
          "output_type": "display_data",
          "data": {
            "text/plain": [
              "[1] 19.4  3.5  4.2  7.0  2.2  1.8"
            ],
            "text/latex": "\\begin{enumerate*}\n\\item 19.4\n\\item 3.5\n\\item 4.2\n\\item 7\n\\item 2.2\n\\item 1.8\n\\end{enumerate*}\n",
            "text/markdown": "1. 19.4\n2. 3.5\n3. 4.2\n4. 7\n5. 2.2\n6. 1.8\n\n\n",
            "text/html": [
              "<style>\n",
              ".list-inline {list-style: none; margin:0; padding: 0}\n",
              ".list-inline>li {display: inline-block}\n",
              ".list-inline>li:not(:last-child)::after {content: \"\\00b7\"; padding: 0 .5ex}\n",
              "</style>\n",
              "<ol class=list-inline><li>19.4</li><li>3.5</li><li>4.2</li><li>7</li><li>2.2</li><li>1.8</li></ol>\n"
            ]
          },
          "metadata": {
            "tags": []
          }
        }
      ]
    },
    {
      "cell_type": "code",
      "metadata": {
        "id": "gQDVvH_mrpPN",
        "outputId": "505ae4b4-374b-4e25-bbe5-c5a9cb52125a",
        "colab": {
          "base_uri": "https://localhost:8080/",
          "height": 34
        }
      },
      "source": [
        "length(x)"
      ],
      "execution_count": 16,
      "outputs": [
        {
          "output_type": "display_data",
          "data": {
            "text/plain": [
              "[1] 197"
            ],
            "text/latex": "197",
            "text/markdown": "197",
            "text/html": [
              "197"
            ]
          },
          "metadata": {
            "tags": []
          }
        }
      ]
    },
    {
      "cell_type": "code",
      "metadata": {
        "id": "L-aVjchKrvC5",
        "outputId": "b44d78fb-8b39-414a-c292-14fd0bf0af81",
        "colab": {
          "base_uri": "https://localhost:8080/",
          "height": 34
        }
      },
      "source": [
        "y = data$Female\n",
        "head(y)"
      ],
      "execution_count": 17,
      "outputs": [
        {
          "output_type": "display_data",
          "data": {
            "text/plain": [
              "[1] 34.0 10.0 12.2 25.5  6.8  7.0"
            ],
            "text/latex": "\\begin{enumerate*}\n\\item 34\n\\item 10\n\\item 12.2\n\\item 25.5\n\\item 6.8\n\\item 7\n\\end{enumerate*}\n",
            "text/markdown": "1. 34\n2. 10\n3. 12.2\n4. 25.5\n5. 6.8\n6. 7\n\n\n",
            "text/html": [
              "<style>\n",
              ".list-inline {list-style: none; margin:0; padding: 0}\n",
              ".list-inline>li {display: inline-block}\n",
              ".list-inline>li:not(:last-child)::after {content: \"\\00b7\"; padding: 0 .5ex}\n",
              "</style>\n",
              "<ol class=list-inline><li>34</li><li>10</li><li>12.2</li><li>25.5</li><li>6.8</li><li>7</li></ol>\n"
            ]
          },
          "metadata": {
            "tags": []
          }
        }
      ]
    },
    {
      "cell_type": "code",
      "metadata": {
        "id": "KrQJ0n11rzUV",
        "outputId": "8ce3f034-f1c9-4011-a8c9-3e99e0e7011e",
        "colab": {
          "base_uri": "https://localhost:8080/",
          "height": 34
        }
      },
      "source": [
        "cor(x, y)"
      ],
      "execution_count": 18,
      "outputs": [
        {
          "output_type": "display_data",
          "data": {
            "text/plain": [
              "[1] 0.8991645"
            ],
            "text/latex": "0.899164479823237",
            "text/markdown": "0.899164479823237",
            "text/html": [
              "0.899164479823237"
            ]
          },
          "metadata": {
            "tags": []
          }
        }
      ]
    },
    {
      "cell_type": "code",
      "metadata": {
        "id": "-GG90CkXr0uW",
        "outputId": "3829e92d-c915-4815-ad63-527cdffcb395",
        "colab": {
          "base_uri": "https://localhost:8080/",
          "height": 437
        }
      },
      "source": [
        "plot (x ~ y)"
      ],
      "execution_count": 19,
      "outputs": [
        {
          "output_type": "display_data",
          "data": {
            "image/png": "[encoded data removed]",
            "text/plain": [
              "plot without title"
            ]
          },
          "metadata": {
            "tags": [],
            "image/png": {
              "width": 420,
              "height": 420
            }
          }
        }
      ]
    },
    {
      "cell_type": "code",
      "metadata": {
        "id": "iISOxTh-r2s9",
        "outputId": "cad0b21e-b657-446a-abec-72f4f3748d29",
        "colab": {
          "base_uri": "https://localhost:8080/",
          "height": 203
        }
      },
      "source": [
        "z = data %>% select (Male, Female, Both)\n",
        "head(z)"
      ],
      "execution_count": 22,
      "outputs": [
        {
          "output_type": "display_data",
          "data": {
            "text/plain": [
              "  Male Female Both\n",
              "1 19.4 34.0   26.6\n",
              "2  3.5 10.0    6.8\n",
              "3  4.2 12.2    8.2\n",
              "4  7.0 25.5   16.1\n",
              "5  2.2  6.8    4.5\n",
              "6  1.8  7.0    4.4"
            ],
            "text/latex": "A tibble: 6 × 3\n\\begin{tabular}{lll}\n Male & Female & Both\\\\\n <dbl> & <dbl> & <dbl>\\\\\n\\hline\n\t 19.4 & 34.0 & 26.6\\\\\n\t  3.5 & 10.0 &  6.8\\\\\n\t  4.2 & 12.2 &  8.2\\\\\n\t  7.0 & 25.5 & 16.1\\\\\n\t  2.2 &  6.8 &  4.5\\\\\n\t  1.8 &  7.0 &  4.4\\\\\n\\end{tabular}\n",
            "text/markdown": "\nA tibble: 6 × 3\n\n| Male &lt;dbl&gt; | Female &lt;dbl&gt; | Both &lt;dbl&gt; |\n|---|---|---|\n| 19.4 | 34.0 | 26.6 |\n|  3.5 | 10.0 |  6.8 |\n|  4.2 | 12.2 |  8.2 |\n|  7.0 | 25.5 | 16.1 |\n|  2.2 |  6.8 |  4.5 |\n|  1.8 |  7.0 |  4.4 |\n\n",
            "text/html": [
              "<table>\n",
              "<caption>A tibble: 6 × 3</caption>\n",
              "<thead>\n",
              "\t<tr><th scope=col>Male</th><th scope=col>Female</th><th scope=col>Both</th></tr>\n",
              "\t<tr><th scope=col>&lt;dbl&gt;</th><th scope=col>&lt;dbl&gt;</th><th scope=col>&lt;dbl&gt;</th></tr>\n",
              "</thead>\n",
              "<tbody>\n",
              "\t<tr><td>19.4</td><td>34.0</td><td>26.6</td></tr>\n",
              "\t<tr><td> 3.5</td><td>10.0</td><td> 6.8</td></tr>\n",
              "\t<tr><td> 4.2</td><td>12.2</td><td> 8.2</td></tr>\n",
              "\t<tr><td> 7.0</td><td>25.5</td><td>16.1</td></tr>\n",
              "\t<tr><td> 2.2</td><td> 6.8</td><td> 4.5</td></tr>\n",
              "\t<tr><td> 1.8</td><td> 7.0</td><td> 4.4</td></tr>\n",
              "</tbody>\n",
              "</table>\n"
            ]
          },
          "metadata": {
            "tags": []
          }
        }
      ]
    },
    {
      "cell_type": "code",
      "metadata": {
        "id": "rS9sG5_esI-V",
        "outputId": "d88bba1b-c7ad-4347-fdae-9a1dd5b11ed3",
        "colab": {
          "base_uri": "https://localhost:8080/",
          "height": 119
        }
      },
      "source": [
        "cor(z)"
      ],
      "execution_count": 23,
      "outputs": [
        {
          "output_type": "display_data",
          "data": {
            "text/plain": [
              "       Male      Female    Both    \n",
              "Male   1.0000000 0.8991645 0.971781\n",
              "Female 0.8991645 1.0000000 0.975905\n",
              "Both   0.9717810 0.9759050 1.000000"
            ],
            "text/latex": "A matrix: 3 × 3 of type dbl\n\\begin{tabular}{r|lll}\n  & Male & Female & Both\\\\\n\\hline\n\tMale & 1.0000000 & 0.8991645 & 0.971781\\\\\n\tFemale & 0.8991645 & 1.0000000 & 0.975905\\\\\n\tBoth & 0.9717810 & 0.9759050 & 1.000000\\\\\n\\end{tabular}\n",
            "text/markdown": "\nA matrix: 3 × 3 of type dbl\n\n| <!--/--> | Male | Female | Both |\n|---|---|---|---|\n| Male | 1.0000000 | 0.8991645 | 0.971781 |\n| Female | 0.8991645 | 1.0000000 | 0.975905 |\n| Both | 0.9717810 | 0.9759050 | 1.000000 |\n\n",
            "text/html": [
              "<table>\n",
              "<caption>A matrix: 3 × 3 of type dbl</caption>\n",
              "<thead>\n",
              "\t<tr><th></th><th scope=col>Male</th><th scope=col>Female</th><th scope=col>Both</th></tr>\n",
              "</thead>\n",
              "<tbody>\n",
              "\t<tr><th scope=row>Male</th><td>1.0000000</td><td>0.8991645</td><td>0.971781</td></tr>\n",
              "\t<tr><th scope=row>Female</th><td>0.8991645</td><td>1.0000000</td><td>0.975905</td></tr>\n",
              "\t<tr><th scope=row>Both</th><td>0.9717810</td><td>0.9759050</td><td>1.000000</td></tr>\n",
              "</tbody>\n",
              "</table>\n"
            ]
          },
          "metadata": {
            "tags": []
          }
        }
      ]
    },
    {
      "cell_type": "code",
      "metadata": {
        "id": "BDbBMPoTsKCx"
      },
      "source": [
        ""
      ],
      "execution_count": null,
      "outputs": []
    }
  ]
}