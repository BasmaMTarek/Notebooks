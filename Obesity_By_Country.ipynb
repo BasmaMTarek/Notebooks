{
  "nbformat": 4,
  "nbformat_minor": 0,
  "metadata": {
    "kernelspec": {
      "display_name": "R",
      "language": "R",
      "name": "ir"
    },
    "language_info": {
      "codemirror_mode": "r",
      "file_extension": ".r",
      "mimetype": "text/x-r-source",
      "name": "R",
      "pygments_lexer": "r",
      "version": "3.3.1"
    },
    "colab": {
      "name": "Obesity By Country",
      "provenance": [],
      "collapsed_sections": [],
      "include_colab_link": true
    }
  },
  "cells": [
    {
      "cell_type": "markdown",
      "metadata": {
        "id": "view-in-github",
        "colab_type": "text"
      },
      "source": [
        "<a href=\"https://colab.research.google.com/github/ahmedmoustafa/Notebooks/blob/master/Obesity_By_Country.ipynb\" target=\"_parent\"><img src=\"https://colab.research.google.com/assets/colab-badge.svg\" alt=\"Open In Colab\"/></a>"
      ]
    },
    {
      "cell_type": "markdown",
      "metadata": {
        "id": "7G9n7ivlqpYU"
      },
      "source": [
        "# Obesity By Country\n",
        "---"
      ]
    },
    {
      "cell_type": "markdown",
      "metadata": {
        "id": "RBd5wrAoXWDI"
      },
      "source": [
        "![Overweight Adults](https://media.gettyimages.com/vectors/overweight-people-silhouettes-vector-id1124865328?s=2048x2048)\n",
        "\n",
        "This [dataset](https://github.com/ahmedmoustafa/Notebooks/blob/master/data/WHO_Obesity_By_Country_2016.csv) contains the prevalence of obesity among adults (male, female, and combined) by country in 2016 from the World Health Organization's Global Health Observatory data repository risk factor Overweight/Obesity. Overweight here is defined as a body-mass index (BMI) ≥ 25."
      ]
    },
    {
      "cell_type": "markdown",
      "metadata": {
        "id": "YDIcRUqla51k"
      },
      "source": [
        "**Q1**. How many rows and columns are in the dataset?"
      ]
    },
    {
      "cell_type": "markdown",
      "metadata": {
        "id": "3LYI1NX7bMCS"
      },
      "source": [
        "**Q2**. What are the estimates in Egypt?"
      ]
    },
    {
      "cell_type": "markdown",
      "metadata": {
        "id": "0dJgQwnabQUC"
      },
      "source": [
        "**Q3**. What is the median prevalence of overweight males in each continent?"
      ]
    },
    {
      "cell_type": "markdown",
      "metadata": {
        "id": "R-4Z0tqHbqW3"
      },
      "source": [
        "**Q4**. Which countries do have the prevalence of overweight males higher than overweight females?"
      ]
    },
    {
      "cell_type": "markdown",
      "metadata": {
        "id": "I-nkmSH3b_nQ"
      },
      "source": [
        "**Q5**. Which countries do have the prevalence of overweight females higher than overweight males?"
      ]
    },
    {
      "cell_type": "markdown",
      "metadata": {
        "id": "F0lnK1pKcEEj"
      },
      "source": [
        "**Extra**: are the males and females percentages correlated? *Hint*: you can use the R function [`cor`](https://www.rdocumentation.org/packages/stats/versions/3.6.2/topics/cor) for [correlation](https://en.wikipedia.org/wiki/Pearson_correlation_coefficient)?"
      ]
    }
  ]
}