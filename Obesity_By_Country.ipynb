{
  "nbformat": 4,
  "nbformat_minor": 0,
  "metadata": {
    "kernelspec": {
      "display_name": "R",
      "language": "R",
      "name": "ir"
    },
    "language_info": {
      "codemirror_mode": "r",
      "file_extension": ".r",
      "mimetype": "text/x-r-source",
      "name": "R",
      "pygments_lexer": "r",
      "version": "3.3.1"
    },
    "colab": {
      "name": "Obesity By Country",
      "provenance": [],
      "collapsed_sections": [],
      "include_colab_link": true
    }
  },
  "cells": [
    {
      "cell_type": "markdown",
      "metadata": {
        "id": "view-in-github",
        "colab_type": "text"
      },
      "source": [
        "<a href=\"https://colab.research.google.com/github/ahmedmoustafa/Notebooks/blob/master/Obesity_By_Country.ipynb\" target=\"_parent\"><img src=\"https://colab.research.google.com/assets/colab-badge.svg\" alt=\"Open In Colab\"/></a>"
      ]
    },
    {
      "cell_type": "markdown",
      "metadata": {
        "id": "7G9n7ivlqpYU"
      },
      "source": [
        "# Obesity By Country\n",
        "---"
      ]
    },
    {
      "cell_type": "markdown",
      "metadata": {
        "id": "RBd5wrAoXWDI"
      },
      "source": [
        "This [dataset](https://github.com/ahmedmoustafa/Notebooks/blob/master/data/WHO_Obesity_By_Country_2016.csv) contains the prevalence of obesity among adults (male, female, and combined) by country in 2016 from the World Health Organization's Global Health Observatory data repository risk factor Overweight/Obesity. Overweight here is defined as a body-mass index (BMI) ≥ 25."
      ]
    },
    {
      "cell_type": "markdown",
      "metadata": {
        "id": "m0TkzWBEaiZg"
      },
      "source": [
        "The data can be loaded using the following code:"
      ]
    },
    {
      "cell_type": "code",
      "metadata": {
        "id": "6W1sY-E1aqBY",
        "outputId": "06abcc0c-eb7b-457c-a77e-2fd276df9151",
        "colab": {
          "base_uri": "https://localhost:8080/"
        }
      },
      "source": [
        "library (tidyverse)\n",
        "data = read_csv (\"https://raw.githubusercontent.com/ahmedmoustafa/Notebooks/master/data/WHO_Obesity_By_Country_2016.csv\")"
      ],
      "execution_count": 1,
      "outputs": [
        {
          "output_type": "stream",
          "text": [
            "── \u001b[1mAttaching packages\u001b[22m ─────────────────────────────────────── tidyverse 1.3.0 ──\n",
            "\n",
            "\u001b[32m✔\u001b[39m \u001b[34mggplot2\u001b[39m 3.3.2     \u001b[32m✔\u001b[39m \u001b[34mpurrr  \u001b[39m 0.3.4\n",
            "\u001b[32m✔\u001b[39m \u001b[34mtibble \u001b[39m 3.0.4     \u001b[32m✔\u001b[39m \u001b[34mdplyr  \u001b[39m 1.0.2\n",
            "\u001b[32m✔\u001b[39m \u001b[34mtidyr  \u001b[39m 1.1.2     \u001b[32m✔\u001b[39m \u001b[34mstringr\u001b[39m 1.4.0\n",
            "\u001b[32m✔\u001b[39m \u001b[34mreadr  \u001b[39m 1.4.0     \u001b[32m✔\u001b[39m \u001b[34mforcats\u001b[39m 0.5.0\n",
            "\n",
            "── \u001b[1mConflicts\u001b[22m ────────────────────────────────────────── tidyverse_conflicts() ──\n",
            "\u001b[31m✖\u001b[39m \u001b[34mdplyr\u001b[39m::\u001b[32mfilter()\u001b[39m masks \u001b[34mstats\u001b[39m::filter()\n",
            "\u001b[31m✖\u001b[39m \u001b[34mdplyr\u001b[39m::\u001b[32mlag()\u001b[39m    masks \u001b[34mstats\u001b[39m::lag()\n",
            "\n",
            "\n",
            "\u001b[36m──\u001b[39m \u001b[1m\u001b[1mColumn specification\u001b[1m\u001b[22m \u001b[36m────────────────────────────────────────────────────────\u001b[39m\n",
            "cols(\n",
            "  Continent = \u001b[31mcol_character()\u001b[39m,\n",
            "  Country = \u001b[31mcol_character()\u001b[39m,\n",
            "  Male = \u001b[32mcol_double()\u001b[39m,\n",
            "  Female = \u001b[32mcol_double()\u001b[39m,\n",
            "  Both = \u001b[32mcol_double()\u001b[39m\n",
            ")\n",
            "\n",
            "\n"
          ],
          "name": "stderr"
        }
      ]
    },
    {
      "cell_type": "markdown",
      "metadata": {
        "id": "YDIcRUqla51k"
      },
      "source": [
        "**Q1**. How many rows and columns are in the dataset?"
      ]
    },
    {
      "cell_type": "markdown",
      "metadata": {
        "id": "3LYI1NX7bMCS"
      },
      "source": [
        "**Q2**. What are the estimates in Egypt?"
      ]
    },
    {
      "cell_type": "markdown",
      "metadata": {
        "id": "0dJgQwnabQUC"
      },
      "source": [
        "**Q3**. What is the median prevalence of overweight males in each continent?"
      ]
    },
    {
      "cell_type": "markdown",
      "metadata": {
        "id": "R-4Z0tqHbqW3"
      },
      "source": [
        "**Q4**. Which countries do have the prevalence of overweight males higher than overweight females?"
      ]
    },
    {
      "cell_type": "markdown",
      "metadata": {
        "id": "I-nkmSH3b_nQ"
      },
      "source": [
        "**Q5**. Which countries do have the prevalence of overweight females higher than overweight males?"
      ]
    },
    {
      "cell_type": "markdown",
      "metadata": {
        "id": "F0lnK1pKcEEj"
      },
      "source": [
        "**Extra**: are the males and females percentages correlated? *Hint*: you can use the R function [`cor`](https://www.rdocumentation.org/packages/stats/versions/3.6.2/topics/cor) for [correlation](https://en.wikipedia.org/wiki/Pearson_correlation_coefficient)?"
      ]
    }
  ]
}