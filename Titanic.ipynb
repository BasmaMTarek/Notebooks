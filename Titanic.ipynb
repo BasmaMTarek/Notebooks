{
  "nbformat": 4,
  "nbformat_minor": 0,
  "metadata": {
    "kernelspec": {
      "display_name": "R",
      "language": "R",
      "name": "ir"
    },
    "language_info": {
      "codemirror_mode": "r",
      "file_extension": ".r",
      "mimetype": "text/x-r-source",
      "name": "R",
      "pygments_lexer": "r",
      "version": "3.3.1"
    },
    "colab": {
      "name": "Titanic",
      "provenance": [],
      "collapsed_sections": [],
      "include_colab_link": true
    }
  },
  "cells": [
    {
      "cell_type": "markdown",
      "metadata": {
        "id": "view-in-github",
        "colab_type": "text"
      },
      "source": [
        "<a href=\"https://colab.research.google.com/github/ahmedmoustafa/Notebooks/blob/master/Titanic.ipynb\" target=\"_parent\"><img src=\"https://colab.research.google.com/assets/colab-badge.svg\" alt=\"Open In Colab\"/></a>"
      ]
    },
    {
      "cell_type": "markdown",
      "metadata": {
        "id": "7G9n7ivlqpYU"
      },
      "source": [
        "# Titanic\n",
        "---"
      ]
    },
    {
      "cell_type": "code",
      "metadata": {
        "id": "_TiXy1LRVKCc",
        "colab": {
          "base_uri": "https://localhost:8080/"
        },
        "outputId": "bb251a38-8e9a-4fa8-b3fa-1be0b7ef43fb"
      },
      "source": [
        "library (tidyverse)"
      ],
      "execution_count": 1,
      "outputs": [
        {
          "output_type": "stream",
          "text": [
            "── \u001b[1mAttaching packages\u001b[22m ─────────────────────────────────────── tidyverse 1.3.0 ──\n",
            "\n",
            "\u001b[32m✔\u001b[39m \u001b[34mggplot2\u001b[39m 3.3.2     \u001b[32m✔\u001b[39m \u001b[34mpurrr  \u001b[39m 0.3.4\n",
            "\u001b[32m✔\u001b[39m \u001b[34mtibble \u001b[39m 3.0.4     \u001b[32m✔\u001b[39m \u001b[34mdplyr  \u001b[39m 1.0.2\n",
            "\u001b[32m✔\u001b[39m \u001b[34mtidyr  \u001b[39m 1.1.2     \u001b[32m✔\u001b[39m \u001b[34mstringr\u001b[39m 1.4.0\n",
            "\u001b[32m✔\u001b[39m \u001b[34mreadr  \u001b[39m 1.4.0     \u001b[32m✔\u001b[39m \u001b[34mforcats\u001b[39m 0.5.0\n",
            "\n",
            "── \u001b[1mConflicts\u001b[22m ────────────────────────────────────────── tidyverse_conflicts() ──\n",
            "\u001b[31m✖\u001b[39m \u001b[34mdplyr\u001b[39m::\u001b[32mfilter()\u001b[39m masks \u001b[34mstats\u001b[39m::filter()\n",
            "\u001b[31m✖\u001b[39m \u001b[34mdplyr\u001b[39m::\u001b[32mlag()\u001b[39m    masks \u001b[34mstats\u001b[39m::lag()\n",
            "\n"
          ],
          "name": "stderr"
        }
      ]
    },
    {
      "cell_type": "code",
      "metadata": {
        "id": "1jEz8SRhVMK6",
        "colab": {
          "base_uri": "https://localhost:8080/"
        },
        "outputId": "942db0b7-d3c4-4d4d-f376-11fe56f23e23"
      },
      "source": [
        "Titanic = read_tsv(\"https://raw.githubusercontent.com/ahmedmoustafa/Notebooks/master/data/titanic.tsv\")\n",
        "glimpse(Titanic)"
      ],
      "execution_count": 2,
      "outputs": [
        {
          "output_type": "stream",
          "text": [
            "\n",
            "\u001b[36m──\u001b[39m \u001b[1m\u001b[1mColumn specification\u001b[1m\u001b[22m \u001b[36m────────────────────────────────────────────────────────\u001b[39m\n",
            "cols(\n",
            "  name = \u001b[31mcol_character()\u001b[39m,\n",
            "  survived = \u001b[31mcol_character()\u001b[39m,\n",
            "  sex = \u001b[31mcol_character()\u001b[39m,\n",
            "  age = \u001b[32mcol_double()\u001b[39m,\n",
            "  class = \u001b[31mcol_character()\u001b[39m\n",
            ")\n",
            "\n",
            "\n"
          ],
          "name": "stderr"
        },
        {
          "output_type": "stream",
          "text": [
            "Rows: 1,309\n",
            "Columns: 5\n",
            "$ name     \u001b[3m\u001b[90m<chr>\u001b[39m\u001b[23m \"Allen, Miss. Elisabeth Walton\", \"Allison, Master. Hudson Tr…\n",
            "$ survived \u001b[3m\u001b[90m<chr>\u001b[39m\u001b[23m \"yes\", \"yes\", \"no\", \"no\", \"no\", \"yes\", \"yes\", \"no\", \"yes\", \"…\n",
            "$ sex      \u001b[3m\u001b[90m<chr>\u001b[39m\u001b[23m \"female\", \"male\", \"female\", \"male\", \"female\", \"male\", \"femal…\n",
            "$ age      \u001b[3m\u001b[90m<dbl>\u001b[39m\u001b[23m 29.0000, 0.9167, 2.0000, 30.0000, 25.0000, 48.0000, 63.0000,…\n",
            "$ class    \u001b[3m\u001b[90m<chr>\u001b[39m\u001b[23m \"1st\", \"1st\", \"1st\", \"1st\", \"1st\", \"1st\", \"1st\", \"1st\", \"1st…\n"
          ],
          "name": "stdout"
        }
      ]
    }
  ]
}